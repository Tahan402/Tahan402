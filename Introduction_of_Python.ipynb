{
  "nbformat": 4,
  "nbformat_minor": 0,
  "metadata": {
    "colab": {
      "provenance": [],
      "collapsed_sections": [],
      "authorship_tag": "ABX9TyP45Gbjbfh8bfiIGbB+BY7m",
      "include_colab_link": true
    },
    "kernelspec": {
      "name": "python3",
      "display_name": "Python 3"
    },
    "language_info": {
      "name": "python"
    }
  },
  "cells": [
    {
      "cell_type": "markdown",
      "metadata": {
        "id": "view-in-github",
        "colab_type": "text"
      },
      "source": [
        "<a href=\"https://colab.research.google.com/github/Tahan402/Tahan402/blob/Capstone/Introduction_of_Python.ipynb\" target=\"_parent\"><img src=\"https://colab.research.google.com/assets/colab-badge.svg\" alt=\"Open In Colab\"/></a>"
      ]
    },
    {
      "cell_type": "markdown",
      "source": [
        "Introduction to Python"
      ],
      "metadata": {
        "id": "x0qpp2IJMLC2"
      }
    },
    {
      "cell_type": "code",
      "execution_count": 1,
      "metadata": {
        "id": "Ozh1maz0MAH_"
      },
      "outputs": [],
      "source": [
        "data = 123 # the data is a number"
      ]
    },
    {
      "cell_type": "code",
      "source": [
        "print(data)"
      ],
      "metadata": {
        "colab": {
          "base_uri": "https://localhost:8080/"
        },
        "id": "Va-Lnzm0MlIr",
        "outputId": "2fe5d8bb-46b8-4161-fea5-10ecde7b0642"
      },
      "execution_count": 2,
      "outputs": [
        {
          "output_type": "stream",
          "name": "stdout",
          "text": [
            "123\n"
          ]
        }
      ]
    },
    {
      "cell_type": "code",
      "source": [
        "data_string ='Taha' #data is now a string"
      ],
      "metadata": {
        "id": "jUP6Qk18Mmys"
      },
      "execution_count": 3,
      "outputs": []
    },
    {
      "cell_type": "code",
      "source": [
        "print(data_string)"
      ],
      "metadata": {
        "colab": {
          "base_uri": "https://localhost:8080/"
        },
        "id": "ZjEGjopjMz-q",
        "outputId": "68849cc1-ac7e-4430-94ff-3b0c3fb195f7"
      },
      "execution_count": 4,
      "outputs": [
        {
          "output_type": "stream",
          "name": "stdout",
          "text": [
            "Taha\n"
          ]
        }
      ]
    },
    {
      "cell_type": "code",
      "source": [
        "x = 10205 # intializing a variable called x\n",
        "print(x)"
      ],
      "metadata": {
        "colab": {
          "base_uri": "https://localhost:8080/"
        },
        "id": "9g9QaOTBM59K",
        "outputId": "749c16ae-30bb-4353-993d-b3ee08d33523"
      },
      "execution_count": 5,
      "outputs": [
        {
          "output_type": "stream",
          "name": "stdout",
          "text": [
            "10205\n"
          ]
        }
      ]
    },
    {
      "cell_type": "code",
      "source": [
        "y = 14\n",
        "print(y)"
      ],
      "metadata": {
        "colab": {
          "base_uri": "https://localhost:8080/"
        },
        "id": "ppw2gLyoNE2Z",
        "outputId": "870b1b68-bf70-4fb3-c840-f63b02e28c90"
      },
      "execution_count": 6,
      "outputs": [
        {
          "output_type": "stream",
          "name": "stdout",
          "text": [
            "14\n"
          ]
        }
      ]
    },
    {
      "cell_type": "code",
      "source": [
        "print('sum of x and y is',x+y)"
      ],
      "metadata": {
        "colab": {
          "base_uri": "https://localhost:8080/"
        },
        "id": "AxSGNGAGNKQ1",
        "outputId": "0002279b-f3ab-4c42-9aac-57940f5c46f2"
      },
      "execution_count": 7,
      "outputs": [
        {
          "output_type": "stream",
          "name": "stdout",
          "text": [
            "sum of x and y is 10219\n"
          ]
        }
      ]
    },
    {
      "cell_type": "markdown",
      "source": [
        "#Different types of variables are allowed in Python:"
      ],
      "metadata": {
        "id": "Vfe6rfB0NfyG"
      }
    },
    {
      "cell_type": "markdown",
      "source": [
        "int (plain integers): integers are just positive or negative whole numbers\n"
      ],
      "metadata": {
        "id": "NnanhV9ONhLx"
      }
    },
    {
      "cell_type": "code",
      "source": [
        "age = 28 # this is an integer variable\n",
        "print(age)\n",
        "print(type(age)) # Returns the type of the variable"
      ],
      "metadata": {
        "colab": {
          "base_uri": "https://localhost:8080/"
        },
        "id": "kymLPQzjNU_q",
        "outputId": "27176963-8318-40aa-a666-2f49042e816e"
      },
      "execution_count": 8,
      "outputs": [
        {
          "output_type": "stream",
          "name": "stdout",
          "text": [
            "28\n",
            "<class 'int'>\n"
          ]
        }
      ]
    },
    {
      "cell_type": "markdown",
      "source": [
        "long (long integers): long integers are integers of infinite size\n",
        "\n",
        "In Python 3 int and long have been merged. We only need to use int data type\n"
      ],
      "metadata": {
        "id": "uCY9ktXAOULx"
      }
    },
    {
      "cell_type": "code",
      "source": [
        "a = 2**150 \n",
        "print(a)\n",
        "print(type(a))"
      ],
      "metadata": {
        "colab": {
          "base_uri": "https://localhost:8080/"
        },
        "id": "R0zTSZkkOLps",
        "outputId": "002fead5-8ef5-4878-943a-36e97e06218d"
      },
      "execution_count": 9,
      "outputs": [
        {
          "output_type": "stream",
          "name": "stdout",
          "text": [
            "1427247692705959881058285969449495136382746624\n",
            "<class 'int'>\n"
          ]
        }
      ]
    },
    {
      "cell_type": "markdown",
      "source": [
        "float (floating point real values): floats represent real numbers, but are written with decimal points (or scientific notation) to divide the whole number into fractional parts\n"
      ],
      "metadata": {
        "id": "FaGnl3EIOsXG"
      }
    },
    {
      "cell_type": "code",
      "source": [
        "pi = 3.1416\n",
        "print(pi)\n",
        "print(type(pi))"
      ],
      "metadata": {
        "colab": {
          "base_uri": "https://localhost:8080/"
        },
        "id": "-Zqh4lyTOizu",
        "outputId": "734ef7f2-1c6f-4943-f811-f6bac6ea9780"
      },
      "execution_count": 10,
      "outputs": [
        {
          "output_type": "stream",
          "name": "stdout",
          "text": [
            "3.1416\n",
            "<class 'float'>\n"
          ]
        }
      ]
    },
    {
      "cell_type": "markdown",
      "source": [
        "Boolean variables: They take a binary value of \"True or False\", True and False\n",
        "\n",
        "Python is case sensitive. \"True and False\" are special keywords reserved for boolean\n"
      ],
      "metadata": {
        "id": "ScI-WX4-PSOG"
      }
    },
    {
      "cell_type": "code",
      "source": [
        "name = 'taha'\n",
        "print(name)\n",
        "print(type(name))"
      ],
      "metadata": {
        "colab": {
          "base_uri": "https://localhost:8080/"
        },
        "id": "DCSGQ41kPGLi",
        "outputId": "7703213b-44c7-4838-ac21-67ef3566095b"
      },
      "execution_count": 11,
      "outputs": [
        {
          "output_type": "stream",
          "name": "stdout",
          "text": [
            "taha\n",
            "<class 'str'>\n"
          ]
        }
      ]
    },
    {
      "cell_type": "markdown",
      "source": [
        "Strings can be created using single quote ', double quotes '' or triple quotes \"\"\" \"\"\"\n"
      ],
      "metadata": {
        "id": "-a7dSBY-P6f_"
      }
    },
    {
      "cell_type": "code",
      "source": [
        "first_name = 'Taha'\n",
        "print(first_name)\n",
        "last_name = \"nakedar\"\n",
        "print(last_name)"
      ],
      "metadata": {
        "colab": {
          "base_uri": "https://localhost:8080/"
        },
        "id": "_02Mw7oNPqnP",
        "outputId": "8da72a29-764e-4f82-f5ab-42b7db8cc7a2"
      },
      "execution_count": 12,
      "outputs": [
        {
          "output_type": "stream",
          "name": "stdout",
          "text": [
            "Taha\n",
            "nakedar\n"
          ]
        }
      ]
    },
    {
      "cell_type": "code",
      "source": [
        "first_name = input('First Name: ',)\n",
        "last_name = input ('Last Name: ')"
      ],
      "metadata": {
        "colab": {
          "base_uri": "https://localhost:8080/"
        },
        "id": "ZdrvRoSjQLIn",
        "outputId": "9daad7fd-df5d-456e-cf98-bc6ccdca0a0b"
      },
      "execution_count": 13,
      "outputs": [
        {
          "name": "stdout",
          "output_type": "stream",
          "text": [
            "First Name: taha\n",
            "Last Name: nakedar\n"
          ]
        }
      ]
    },
    {
      "cell_type": "markdown",
      "source": [
        "complex (complex numbers): represented by the formula a + bJ, where a and b are floats, and J is the square root of -1 (the result of which is an imaginary number). Complex numbers are used sparingly in Python\n"
      ],
      "metadata": {
        "id": "bNRzpbRvR041"
      }
    },
    {
      "cell_type": "code",
      "source": [
        "c= 4 + 5j # c is a complex variable with real component 4 and imaginary component is 5\n",
        "print(c)"
      ],
      "metadata": {
        "colab": {
          "base_uri": "https://localhost:8080/"
        },
        "id": "QWoZPko0Qrug",
        "outputId": "bb8078c1-5f8c-425f-9040-4f061eaf0908"
      },
      "execution_count": 14,
      "outputs": [
        {
          "output_type": "stream",
          "name": "stdout",
          "text": [
            "(4+5j)\n"
          ]
        }
      ]
    },
    {
      "cell_type": "markdown",
      "source": [
        "#Mathematical Operators\n"
      ],
      "metadata": {
        "id": "OeakjOiuSYMr"
      }
    },
    {
      "cell_type": "code",
      "source": [
        "x = 11\n",
        "y = 14\n"
      ],
      "metadata": {
        "id": "diKZodCRSGVz"
      },
      "execution_count": 15,
      "outputs": []
    },
    {
      "cell_type": "code",
      "source": [
        "z=x+y"
      ],
      "metadata": {
        "id": "XF1QW0deS7CW"
      },
      "execution_count": 16,
      "outputs": []
    },
    {
      "cell_type": "code",
      "source": [
        "z"
      ],
      "metadata": {
        "colab": {
          "base_uri": "https://localhost:8080/"
        },
        "id": "093krtFDS806",
        "outputId": "22bda991-c4d7-4644-cf23-f474811a36dd"
      },
      "execution_count": 17,
      "outputs": [
        {
          "output_type": "execute_result",
          "data": {
            "text/plain": [
              "25"
            ]
          },
          "metadata": {},
          "execution_count": 17
        }
      ]
    },
    {
      "cell_type": "code",
      "source": [
        "z= x-y"
      ],
      "metadata": {
        "id": "ozGKWrqHS9dG"
      },
      "execution_count": 18,
      "outputs": []
    },
    {
      "cell_type": "code",
      "source": [
        "z"
      ],
      "metadata": {
        "colab": {
          "base_uri": "https://localhost:8080/"
        },
        "id": "ZcijtCabTaqK",
        "outputId": "4cc1de23-fd92-4b17-8221-42fa996da9dd"
      },
      "execution_count": 19,
      "outputs": [
        {
          "output_type": "execute_result",
          "data": {
            "text/plain": [
              "-3"
            ]
          },
          "metadata": {},
          "execution_count": 19
        }
      ]
    },
    {
      "cell_type": "code",
      "source": [
        "z=x*y"
      ],
      "metadata": {
        "id": "FEecvEkuTa-4"
      },
      "execution_count": 20,
      "outputs": []
    },
    {
      "cell_type": "code",
      "source": [
        "z"
      ],
      "metadata": {
        "colab": {
          "base_uri": "https://localhost:8080/"
        },
        "id": "os1kCLeITcPK",
        "outputId": "640bc167-f4fd-4dd2-9ab6-dc9ea066a4d5"
      },
      "execution_count": 21,
      "outputs": [
        {
          "output_type": "execute_result",
          "data": {
            "text/plain": [
              "154"
            ]
          },
          "metadata": {},
          "execution_count": 21
        }
      ]
    },
    {
      "cell_type": "code",
      "source": [
        "z=x/y"
      ],
      "metadata": {
        "id": "N4FPQt6FTc7H"
      },
      "execution_count": 22,
      "outputs": []
    },
    {
      "cell_type": "code",
      "source": [
        "z"
      ],
      "metadata": {
        "colab": {
          "base_uri": "https://localhost:8080/"
        },
        "id": "No4yf6voTkIq",
        "outputId": "8ff64b9f-75be-4970-ee2a-d174486f369b"
      },
      "execution_count": 23,
      "outputs": [
        {
          "output_type": "execute_result",
          "data": {
            "text/plain": [
              "0.7857142857142857"
            ]
          },
          "metadata": {},
          "execution_count": 23
        }
      ]
    },
    {
      "cell_type": "code",
      "source": [
        "z =x**y #exponent\n",
        "print(z)"
      ],
      "metadata": {
        "colab": {
          "base_uri": "https://localhost:8080/"
        },
        "id": "PK9Iw478TlWT",
        "outputId": "2b79038d-c152-48d8-e17f-afdb1ebefcff"
      },
      "execution_count": 24,
      "outputs": [
        {
          "output_type": "stream",
          "name": "stdout",
          "text": [
            "379749833583241\n"
          ]
        }
      ]
    },
    {
      "cell_type": "code",
      "source": [
        "z=x%y # modulus"
      ],
      "metadata": {
        "id": "8Y9SNph7Tv6S"
      },
      "execution_count": 25,
      "outputs": []
    },
    {
      "cell_type": "code",
      "source": [
        "z"
      ],
      "metadata": {
        "colab": {
          "base_uri": "https://localhost:8080/"
        },
        "id": "2OFzowwWUDqe",
        "outputId": "80af7774-e49c-4d83-c4d4-461fad5e33ab"
      },
      "execution_count": 26,
      "outputs": [
        {
          "output_type": "execute_result",
          "data": {
            "text/plain": [
              "11"
            ]
          },
          "metadata": {},
          "execution_count": 26
        }
      ]
    },
    {
      "cell_type": "code",
      "source": [
        "print('\\nDivision 11/14 = {}'.format(x/y)) # Division of two numbers\n",
        "print('\\nQuotient 11//14 = {}'.format(x//y)) # Returns the Quotient from the division of two numbres\n",
        "print('\\nRemainder 11%14 = {}'.format(x%y)) # Returns reaminder division of two numbers"
      ],
      "metadata": {
        "colab": {
          "base_uri": "https://localhost:8080/"
        },
        "id": "tUHuYTaMUERU",
        "outputId": "b255c473-359d-4bfa-ad17-2461333ad3f5"
      },
      "execution_count": 27,
      "outputs": [
        {
          "output_type": "stream",
          "name": "stdout",
          "text": [
            "\n",
            "Division 11/14 = 0.7857142857142857\n",
            "\n",
            "Quotient 11//14 = 0\n",
            "\n",
            "Remainder 11%14 = 11\n"
          ]
        }
      ]
    },
    {
      "cell_type": "markdown",
      "source": [
        "Inplace Operators"
      ],
      "metadata": {
        "id": "ne-NDPpmWLpf"
      }
    },
    {
      "cell_type": "code",
      "source": [
        "data = 2\n",
        "data +=3 # this is as same as data + 3\n",
        "print(data)"
      ],
      "metadata": {
        "colab": {
          "base_uri": "https://localhost:8080/"
        },
        "id": "VvakHxQiV4d7",
        "outputId": "d8a98702-e185-48e5-ccff-8d43aa6d5057"
      },
      "execution_count": 28,
      "outputs": [
        {
          "output_type": "stream",
          "name": "stdout",
          "text": [
            "5\n"
          ]
        }
      ]
    },
    {
      "cell_type": "markdown",
      "source": [
        "Strings can be accessed as whole strings or as sub strings\n"
      ],
      "metadata": {
        "id": "xl04Uqh3WwjX"
      }
    },
    {
      "cell_type": "code",
      "source": [
        "my_string = 'Python language'\n",
        "print(my_string)\n",
        "\n",
        "print(my_string[0])\n",
        "\n",
        "print(my_string[0:3]) # prints the character from position 0 to 2\n",
        "\n",
        "print(my_string[-3:-1]) # prints the character from position 0 to 2 in reverse order except the character at position 0\n",
        "\n",
        "print(my_string[-3:]) # prints the character from position 0 to 2 only from the end\n",
        "\n",
        "print(my_string[:]) # prints all the character\n"
      ],
      "metadata": {
        "colab": {
          "base_uri": "https://localhost:8080/"
        },
        "id": "3MdYAHXnWdCK",
        "outputId": "381dfcc5-6f47-423b-c092-cff3ae1e5123"
      },
      "execution_count": 29,
      "outputs": [
        {
          "output_type": "stream",
          "name": "stdout",
          "text": [
            "Python language\n",
            "P\n",
            "Pyt\n",
            "ag\n",
            "age\n",
            "Python language\n"
          ]
        }
      ]
    },
    {
      "cell_type": "markdown",
      "source": [
        "How to include a string with single quote within quotes?\n",
        "\n",
        "As single/double quotes are used to mark a string we need to use a special way if we want them to use within a string.\n",
        "\n",
        "This process is known as \"Escaping\"\n",
        "\n",
        "It is done by placing a backslash character in front of them"
      ],
      "metadata": {
        "id": "4DMQg7ctV53R"
      }
    },
    {
      "cell_type": "code",
      "source": [
        "my_str= 'Taha\\'s city Khargone'\n",
        "print(my_str)"
      ],
      "metadata": {
        "id": "oHrzia2UXCbZ",
        "colab": {
          "base_uri": "https://localhost:8080/"
        },
        "outputId": "fef9a25f-29fd-4e7a-89ab-f427b03a3c86"
      },
      "execution_count": 30,
      "outputs": [
        {
          "output_type": "stream",
          "name": "stdout",
          "text": [
            "Taha's city Khargone\n"
          ]
        }
      ]
    },
    {
      "cell_type": "code",
      "source": [
        "my_str1=\"Python is \\\"exciting\\\"\"\n",
        "print(my_str1)"
      ],
      "metadata": {
        "colab": {
          "base_uri": "https://localhost:8080/"
        },
        "id": "I4cYYWs4Wjp-",
        "outputId": "008793b4-c875-492b-b3ec-d24903e3cfe5"
      },
      "execution_count": 31,
      "outputs": [
        {
          "output_type": "stream",
          "name": "stdout",
          "text": [
            "Python is \"exciting\"\n"
          ]
        }
      ]
    },
    {
      "cell_type": "markdown",
      "source": [
        "String Concatenation\n"
      ],
      "metadata": {
        "id": "URQvJZebXXNI"
      }
    },
    {
      "cell_type": "code",
      "source": [
        "new_string = 'hello'+'world'"
      ],
      "metadata": {
        "id": "e86s0W0mXBPe"
      },
      "execution_count": 32,
      "outputs": []
    },
    {
      "cell_type": "code",
      "source": [
        "new_string"
      ],
      "metadata": {
        "colab": {
          "base_uri": "https://localhost:8080/",
          "height": 36
        },
        "id": "B3XhfL_0XmPQ",
        "outputId": "b77942b3-db60-4c05-b720-2bda61cdfa5e"
      },
      "execution_count": 33,
      "outputs": [
        {
          "output_type": "execute_result",
          "data": {
            "text/plain": [
              "'helloworld'"
            ],
            "application/vnd.google.colaboratory.intrinsic+json": {
              "type": "string"
            }
          },
          "metadata": {},
          "execution_count": 33
        }
      ]
    },
    {
      "cell_type": "code",
      "source": [
        "new_string1 = 'hello ' +'world'"
      ],
      "metadata": {
        "id": "IZCcNHFsXnmU"
      },
      "execution_count": 34,
      "outputs": []
    },
    {
      "cell_type": "code",
      "source": [
        "new_string1"
      ],
      "metadata": {
        "colab": {
          "base_uri": "https://localhost:8080/",
          "height": 36
        },
        "id": "lArRtKxGXwrm",
        "outputId": "7ce05b9b-0105-45c7-db68-a6c85c23f040"
      },
      "execution_count": 35,
      "outputs": [
        {
          "output_type": "execute_result",
          "data": {
            "text/plain": [
              "'hello world'"
            ],
            "application/vnd.google.colaboratory.intrinsic+json": {
              "type": "string"
            }
          },
          "metadata": {},
          "execution_count": 35
        }
      ]
    },
    {
      "cell_type": "code",
      "source": [
        "new_str = '2' + '3' # Python sees string as character"
      ],
      "metadata": {
        "id": "keu4qgUbXzGy"
      },
      "execution_count": 36,
      "outputs": []
    },
    {
      "cell_type": "code",
      "source": [
        "new_str"
      ],
      "metadata": {
        "colab": {
          "base_uri": "https://localhost:8080/",
          "height": 36
        },
        "id": "8M1aYe4nX_M6",
        "outputId": "3a97aa2a-eb76-486e-bbd6-5d40296b8a36"
      },
      "execution_count": 37,
      "outputs": [
        {
          "output_type": "execute_result",
          "data": {
            "text/plain": [
              "'23'"
            ],
            "application/vnd.google.colaboratory.intrinsic+json": {
              "type": "string"
            }
          },
          "metadata": {},
          "execution_count": 37
        }
      ]
    },
    {
      "cell_type": "code",
      "source": [
        "new_str1 = '2'+3 # we cannot mix data types"
      ],
      "metadata": {
        "colab": {
          "base_uri": "https://localhost:8080/",
          "height": 165
        },
        "id": "ysBP1cCfYAQz",
        "outputId": "75d467e5-01c2-40fd-ab68-3c867519dbf7"
      },
      "execution_count": 39,
      "outputs": [
        {
          "output_type": "error",
          "ename": "TypeError",
          "evalue": "ignored",
          "traceback": [
            "\u001b[0;31m---------------------------------------------------------------------------\u001b[0m",
            "\u001b[0;31mTypeError\u001b[0m                                 Traceback (most recent call last)",
            "\u001b[0;32m<ipython-input-39-7ec7f04fd2d3>\u001b[0m in \u001b[0;36m<module>\u001b[0;34m\u001b[0m\n\u001b[0;32m----> 1\u001b[0;31m \u001b[0mnew_str1\u001b[0m \u001b[0;34m=\u001b[0m \u001b[0;34m'2'\u001b[0m\u001b[0;34m+\u001b[0m\u001b[0;36m3\u001b[0m \u001b[0;31m# we cannot mix data types\u001b[0m\u001b[0;34m\u001b[0m\u001b[0;34m\u001b[0m\u001b[0m\n\u001b[0m",
            "\u001b[0;31mTypeError\u001b[0m: can only concatenate str (not \"int\") to str"
          ]
        }
      ]
    },
    {
      "cell_type": "markdown",
      "source": [
        "Multiplication of Strings\n"
      ],
      "metadata": {
        "id": "F6uQKMQIYgOd"
      }
    },
    {
      "cell_type": "code",
      "source": [
        "new_str2 = 'data'*3"
      ],
      "metadata": {
        "id": "74-Wv8HUYeiR"
      },
      "execution_count": 40,
      "outputs": []
    },
    {
      "cell_type": "code",
      "source": [
        "new_str2"
      ],
      "metadata": {
        "colab": {
          "base_uri": "https://localhost:8080/",
          "height": 36
        },
        "id": "K70xnSnKYnpr",
        "outputId": "163b7f7d-edc5-488d-8561-4e6bba270197"
      },
      "execution_count": 41,
      "outputs": [
        {
          "output_type": "execute_result",
          "data": {
            "text/plain": [
              "'datadatadata'"
            ],
            "application/vnd.google.colaboratory.intrinsic+json": {
              "type": "string"
            }
          },
          "metadata": {},
          "execution_count": 41
        }
      ]
    },
    {
      "cell_type": "code",
      "source": [
        "new_str3 = 'data '*3\n",
        "new_str3"
      ],
      "metadata": {
        "colab": {
          "base_uri": "https://localhost:8080/",
          "height": 36
        },
        "id": "iyJB3bgzYo8W",
        "outputId": "6dcc97c0-1d6a-4321-8d71-0fd1749aac6b"
      },
      "execution_count": 42,
      "outputs": [
        {
          "output_type": "execute_result",
          "data": {
            "text/plain": [
              "'data data data '"
            ],
            "application/vnd.google.colaboratory.intrinsic+json": {
              "type": "string"
            }
          },
          "metadata": {},
          "execution_count": 42
        }
      ]
    },
    {
      "cell_type": "code",
      "source": [
        "str4 = '5' *3\n",
        "str4"
      ],
      "metadata": {
        "colab": {
          "base_uri": "https://localhost:8080/",
          "height": 36
        },
        "id": "VmAWCq75ZBSu",
        "outputId": "2805f2a7-fe44-4090-9ef8-c82c968b655b"
      },
      "execution_count": 43,
      "outputs": [
        {
          "output_type": "execute_result",
          "data": {
            "text/plain": [
              "'555'"
            ],
            "application/vnd.google.colaboratory.intrinsic+json": {
              "type": "string"
            }
          },
          "metadata": {},
          "execution_count": 43
        }
      ]
    },
    {
      "cell_type": "code",
      "source": [
        "str5 = '9'*3.5"
      ],
      "metadata": {
        "colab": {
          "base_uri": "https://localhost:8080/",
          "height": 165
        },
        "id": "QkAkl1JGZFtx",
        "outputId": "72581d02-5d00-4d5a-8563-ef2e67dd8fac"
      },
      "execution_count": 44,
      "outputs": [
        {
          "output_type": "error",
          "ename": "TypeError",
          "evalue": "ignored",
          "traceback": [
            "\u001b[0;31m---------------------------------------------------------------------------\u001b[0m",
            "\u001b[0;31mTypeError\u001b[0m                                 Traceback (most recent call last)",
            "\u001b[0;32m<ipython-input-44-1b0f31c16f6a>\u001b[0m in \u001b[0;36m<module>\u001b[0;34m\u001b[0m\n\u001b[0;32m----> 1\u001b[0;31m \u001b[0mstr5\u001b[0m \u001b[0;34m=\u001b[0m \u001b[0;34m'9'\u001b[0m\u001b[0;34m*\u001b[0m\u001b[0;36m3.5\u001b[0m\u001b[0;34m\u001b[0m\u001b[0;34m\u001b[0m\u001b[0m\n\u001b[0m",
            "\u001b[0;31mTypeError\u001b[0m: can't multiply sequence by non-int of type 'float'"
          ]
        }
      ]
    },
    {
      "cell_type": "markdown",
      "source": [
        "Converting String Different Datatypes"
      ],
      "metadata": {
        "id": "elEAMEBSZe0d"
      }
    },
    {
      "cell_type": "code",
      "source": [
        "str6 = '5' + '6'\n",
        "str6"
      ],
      "metadata": {
        "colab": {
          "base_uri": "https://localhost:8080/",
          "height": 36
        },
        "id": "0hv4j2E9ZXqw",
        "outputId": "7b0f8b9f-8580-4827-89f8-a4280b2c030a"
      },
      "execution_count": 45,
      "outputs": [
        {
          "output_type": "execute_result",
          "data": {
            "text/plain": [
              "'56'"
            ],
            "application/vnd.google.colaboratory.intrinsic+json": {
              "type": "string"
            }
          },
          "metadata": {},
          "execution_count": 45
        }
      ]
    },
    {
      "cell_type": "code",
      "source": [
        "data = int('4')+ int('6')\n",
        "print(data)"
      ],
      "metadata": {
        "colab": {
          "base_uri": "https://localhost:8080/"
        },
        "id": "yM76YGdUZrqx",
        "outputId": "f0ca7fa6-743e-41c0-f31a-20ef290d995e"
      },
      "execution_count": 46,
      "outputs": [
        {
          "output_type": "stream",
          "name": "stdout",
          "text": [
            "10\n"
          ]
        }
      ]
    },
    {
      "cell_type": "markdown",
      "source": [
        "To take input from users the function input is used\n"
      ],
      "metadata": {
        "id": "zioaONRqaFXG"
      }
    },
    {
      "cell_type": "code",
      "source": [
        "data = input('Enter a number')\n",
        "print(data)\n",
        "print(type(data))"
      ],
      "metadata": {
        "colab": {
          "base_uri": "https://localhost:8080/"
        },
        "id": "-eVTEdlNZ5ar",
        "outputId": "5b4cde49-10c1-40f1-dd05-8e6f39c790b6"
      },
      "execution_count": 47,
      "outputs": [
        {
          "output_type": "stream",
          "name": "stdout",
          "text": [
            "Enter a number\n",
            "\n",
            "<class 'str'>\n"
          ]
        }
      ]
    },
    {
      "cell_type": "code",
      "source": [
        "int_data =int(input('Enter the first number: '))\n",
        "int_data1 = int(input('Enter the second number: '))\n",
        "#print(int_data,int_data1)\n",
        "\n",
        "print('the type of int_data and int_data1 is {} {}'.format(type(int_data), type(int_data1)))\n",
        "\n",
        "print('the sum is {}'.format(int_data + int_data1))"
      ],
      "metadata": {
        "colab": {
          "base_uri": "https://localhost:8080/"
        },
        "id": "9vs27Xn8aTzE",
        "outputId": "d4ad4ec6-8fd9-463a-b7ba-6f58e822dacc"
      },
      "execution_count": 48,
      "outputs": [
        {
          "output_type": "stream",
          "name": "stdout",
          "text": [
            "Enter the first number: 1\n",
            "Enter the second number: 2\n",
            "the type of int_data and int_data1 is <class 'int'> <class 'int'>\n",
            "the sum is 3\n"
          ]
        }
      ]
    },
    {
      "cell_type": "markdown",
      "source": [
        "#Python Boolean\n"
      ],
      "metadata": {
        "id": "NTioaOMMczmn"
      }
    },
    {
      "cell_type": "markdown",
      "source": [
        "There are two Python Boolean Values: True and False\n",
        "\n",
        "\n",
        "Returns \"True\" if both \"a\" and \"b\" are \"TRUE\" OR if both \"a\" and \"b\" are \"FALSE\" \n"
      ],
      "metadata": {
        "id": "N1IZq9B6cwXt"
      }
    },
    {
      "cell_type": "code",
      "source": [
        "A = True\n",
        "B = False\n",
        "\n",
        "print(A or B)\n"
      ],
      "metadata": {
        "colab": {
          "base_uri": "https://localhost:8080/"
        },
        "id": "o2PJvuAhb0Mw",
        "outputId": "2d2dfcb7-caf4-4f73-8560-3be24ab9644d"
      },
      "execution_count": 49,
      "outputs": [
        {
          "output_type": "stream",
          "name": "stdout",
          "text": [
            "True\n"
          ]
        }
      ]
    },
    {
      "cell_type": "code",
      "source": [
        "A = True\n",
        "B = False\n",
        "\n",
        "print(A and B)\n"
      ],
      "metadata": {
        "colab": {
          "base_uri": "https://localhost:8080/"
        },
        "id": "PnNCbJh1dceM",
        "outputId": "8747dde1-5ce5-4721-dd2e-35c40ae5a0e6"
      },
      "execution_count": 50,
      "outputs": [
        {
          "output_type": "stream",
          "name": "stdout",
          "text": [
            "False\n"
          ]
        }
      ]
    },
    {
      "cell_type": "code",
      "source": [
        "A = False\n",
        "B = False\n",
        "\n",
        "print(A and B)"
      ],
      "metadata": {
        "colab": {
          "base_uri": "https://localhost:8080/"
        },
        "id": "KBptSVLHdisT",
        "outputId": "48c5a4f9-368c-40be-a044-a93138f0d511"
      },
      "execution_count": 51,
      "outputs": [
        {
          "output_type": "stream",
          "name": "stdout",
          "text": [
            "False\n"
          ]
        }
      ]
    },
    {
      "cell_type": "markdown",
      "source": [
        "When \"and\" is used we get \"True\" only when both the conditions are \"True\". else we get \"False\""
      ],
      "metadata": {
        "id": "Gew22vW2eBQW"
      }
    },
    {
      "cell_type": "code",
      "source": [
        "print(4<5 and 6<7) #True and True"
      ],
      "metadata": {
        "colab": {
          "base_uri": "https://localhost:8080/"
        },
        "id": "AJgpzo03drGl",
        "outputId": "a4f3c42d-b4fb-4711-8c4b-7136415bb172"
      },
      "execution_count": 52,
      "outputs": [
        {
          "output_type": "stream",
          "name": "stdout",
          "text": [
            "True\n"
          ]
        }
      ]
    },
    {
      "cell_type": "code",
      "source": [
        "print (4>5 and 6>7)# False and False"
      ],
      "metadata": {
        "colab": {
          "base_uri": "https://localhost:8080/"
        },
        "id": "axionS6Qedgj",
        "outputId": "d664621b-71cb-4b46-ca2c-7b6b0fac2553"
      },
      "execution_count": 53,
      "outputs": [
        {
          "output_type": "stream",
          "name": "stdout",
          "text": [
            "False\n"
          ]
        }
      ]
    },
    {
      "cell_type": "code",
      "source": [
        "print(4<5 and 6>7) # True and False"
      ],
      "metadata": {
        "colab": {
          "base_uri": "https://localhost:8080/"
        },
        "id": "R9hCqum9foKZ",
        "outputId": "62e20dbc-38a5-4dd1-b96c-e9f16cbaa09c"
      },
      "execution_count": 54,
      "outputs": [
        {
          "output_type": "stream",
          "name": "stdout",
          "text": [
            "False\n"
          ]
        }
      ]
    },
    {
      "cell_type": "code",
      "source": [
        "print(4>5 and 6<7) # False and True"
      ],
      "metadata": {
        "colab": {
          "base_uri": "https://localhost:8080/"
        },
        "id": "dlRMR-LRf3-R",
        "outputId": "d3ff8c7e-cd86-475e-d752-de28d0cb8a8f"
      },
      "execution_count": 55,
      "outputs": [
        {
          "output_type": "stream",
          "name": "stdout",
          "text": [
            "False\n"
          ]
        }
      ]
    },
    {
      "cell_type": "markdown",
      "source": [
        "When \"or\" is used we get \"False\" only when both the condition are \"False\" else we get \"True\""
      ],
      "metadata": {
        "id": "Yu2Nnfp1gB8o"
      }
    },
    {
      "cell_type": "code",
      "source": [
        "print(4<5 or 6<7)\n",
        "print(4>5 or 6>7)\n",
        "print(4<5 or 6>7)\n",
        "print(4>5 or 6<7)"
      ],
      "metadata": {
        "colab": {
          "base_uri": "https://localhost:8080/"
        },
        "id": "pqKTJOfCgBSn",
        "outputId": "46749730-021b-4b34-c135-00e9ea966888"
      },
      "execution_count": 56,
      "outputs": [
        {
          "output_type": "stream",
          "name": "stdout",
          "text": [
            "True\n",
            "False\n",
            "True\n",
            "True\n"
          ]
        }
      ]
    },
    {
      "cell_type": "markdown",
      "source": [
        "For comparisons we use the \"equal to\" operator ==\n",
        "NOTE: = is assignment operator and == is comparison operator\n"
      ],
      "metadata": {
        "id": "2-_VHVKjg9Uq"
      }
    },
    {
      "cell_type": "code",
      "source": [
        "print(5==7)"
      ],
      "metadata": {
        "colab": {
          "base_uri": "https://localhost:8080/"
        },
        "id": "lYAp1feGgipZ",
        "outputId": "19dcbd48-b8c2-47fd-a20b-c6a41869a285"
      },
      "execution_count": 57,
      "outputs": [
        {
          "output_type": "stream",
          "name": "stdout",
          "text": [
            "False\n"
          ]
        }
      ]
    },
    {
      "cell_type": "code",
      "source": [
        "print(8==8)"
      ],
      "metadata": {
        "colab": {
          "base_uri": "https://localhost:8080/"
        },
        "id": "gkhsCsi-hPov",
        "outputId": "17849ba2-0ec4-4248-b101-5fa073178492"
      },
      "execution_count": 58,
      "outputs": [
        {
          "output_type": "stream",
          "name": "stdout",
          "text": [
            "True\n"
          ]
        }
      ]
    },
    {
      "cell_type": "markdown",
      "source": [
        "Another operator used for comparison is \"not equal to\" operator !=\n"
      ],
      "metadata": {
        "id": "yW6UBcSuhalW"
      }
    },
    {
      "cell_type": "code",
      "source": [
        "print(2!=3)"
      ],
      "metadata": {
        "colab": {
          "base_uri": "https://localhost:8080/"
        },
        "id": "5FBKF4dHhTMy",
        "outputId": "6950c05c-b154-45a6-995d-e710f9eecd80"
      },
      "execution_count": 59,
      "outputs": [
        {
          "output_type": "stream",
          "name": "stdout",
          "text": [
            "True\n"
          ]
        }
      ]
    },
    {
      "cell_type": "code",
      "source": [
        "print(2!=3) \n",
        "print('2!=3)"
      ],
      "metadata": {
        "id": "r2Ky9ujUhgNT",
        "colab": {
          "base_uri": "https://localhost:8080/",
          "height": 130
        },
        "outputId": "e396bede-af82-484c-c37a-d4869fa906fc"
      },
      "execution_count": 60,
      "outputs": [
        {
          "output_type": "error",
          "ename": "SyntaxError",
          "evalue": "ignored",
          "traceback": [
            "\u001b[0;36m  File \u001b[0;32m\"<ipython-input-60-0504a19a81ce>\"\u001b[0;36m, line \u001b[0;32m2\u001b[0m\n\u001b[0;31m    print('2!=3)\u001b[0m\n\u001b[0m                ^\u001b[0m\n\u001b[0;31mSyntaxError\u001b[0m\u001b[0;31m:\u001b[0m EOL while scanning string literal\n"
          ]
        }
      ]
    },
    {
      "cell_type": "markdown",
      "source": [
        "#Control Structures in Python\n",
        "\n"
      ],
      "metadata": {
        "id": "kFR9jRY5fr_e"
      }
    },
    {
      "cell_type": "markdown",
      "source": [
        "An \"if\" statement is used to run code based on certain condition\n",
        "\n",
        "for e.g.\n",
        "\n",
        "if expression:\n",
        "      statements\n",
        "\n",
        "Python uses indentation to decide a block of code\n"
      ],
      "metadata": {
        "id": "nkcN8eP4fupz"
      }
    },
    {
      "cell_type": "code",
      "source": [
        "if 2>1:\n",
        "  print('2 is greater than 1') # this line of code executes when 2 is greater than 1\n",
        "  print('one more')\n",
        "\n",
        "print('Finished')"
      ],
      "metadata": {
        "colab": {
          "base_uri": "https://localhost:8080/"
        },
        "id": "L15IA98ffpQF",
        "outputId": "3fab568b-375d-4eb9-c423-c394cda487e9"
      },
      "execution_count": 65,
      "outputs": [
        {
          "output_type": "stream",
          "name": "stdout",
          "text": [
            "2 is greater than 1\n",
            "one more\n",
            "Finished\n"
          ]
        }
      ]
    },
    {
      "cell_type": "code",
      "source": [
        "if 2>3:\n",
        "  print('2 is greater than 3')\n",
        "  print('one more')\n",
        "\n",
        "print('Finished')"
      ],
      "metadata": {
        "colab": {
          "base_uri": "https://localhost:8080/"
        },
        "id": "AFdh7gcXgT7w",
        "outputId": "914b56c9-5f6f-4e9b-b654-242e1e6535c4"
      },
      "execution_count": 63,
      "outputs": [
        {
          "output_type": "stream",
          "name": "stdout",
          "text": [
            "Finished\n"
          ]
        }
      ]
    },
    {
      "cell_type": "code",
      "source": [
        "if 2<3:\n",
        "  print('2 is less than 3')\n",
        "  print('one less')\n",
        "\n",
        "print('Finished')"
      ],
      "metadata": {
        "colab": {
          "base_uri": "https://localhost:8080/"
        },
        "id": "tz6vCDEWgrcR",
        "outputId": "f97e8f69-0306-437b-ae0f-3c95c3e6e768"
      },
      "execution_count": 64,
      "outputs": [
        {
          "output_type": "stream",
          "name": "stdout",
          "text": [
            "2 is less than 3\n",
            "one less\n",
            "Finished\n"
          ]
        }
      ]
    },
    {
      "cell_type": "markdown",
      "source": [
        "An \"else\" statement follows an \"if\" statement\n",
        "\n",
        "if expression:\n",
        "          statement\n",
        "else:\n",
        "          statement\n"
      ],
      "metadata": {
        "id": "7ght_Ix9hL5Z"
      }
    },
    {
      "cell_type": "code",
      "source": [
        "int_num1 = int(input('Enter first number: '))\n",
        "int_num2 = int(input('Enter second number: '))\n",
        "\n",
        "if (int_num1 > int_num2):\n",
        "  print('{} is greater than {}'.format(int_num1,int_num2))\n",
        "\n",
        "else:\n",
        "  print('{} is not greater than {}'.format(int_num1,int_num2))"
      ],
      "metadata": {
        "colab": {
          "base_uri": "https://localhost:8080/"
        },
        "id": "IEbwYV5YhDwT",
        "outputId": "d858bd0d-874f-4b4d-e263-5f552e04814a"
      },
      "execution_count": 67,
      "outputs": [
        {
          "output_type": "stream",
          "name": "stdout",
          "text": [
            "Enter first number: 4\n",
            "Enter second number: 2\n",
            "4 is greater than 2\n"
          ]
        }
      ]
    },
    {
      "cell_type": "markdown",
      "source": [
        "The 'elif' statement is used for changing if and else statement\n"
      ],
      "metadata": {
        "id": "6gKDZLb0jR6I"
      }
    },
    {
      "cell_type": "code",
      "source": [
        "num = int(input('Enter a number: '))\n",
        "\n",
        "if num == 800:\n",
        "  print('num is 800** big number')\n",
        "\n",
        "elif num == 100:\n",
        "  print ('num is 100 - small number')\n",
        "\n",
        "elif num == 400:\n",
        "  print ('num is 400 - mid number')\n",
        "\n",
        "else:\n",
        "  print('value of num is unknown')\n"
      ],
      "metadata": {
        "colab": {
          "base_uri": "https://localhost:8080/"
        },
        "id": "NKu_nvodjUe8",
        "outputId": "c123a903-eb2f-4c61-ddb4-c47a955c581c"
      },
      "execution_count": 69,
      "outputs": [
        {
          "output_type": "stream",
          "name": "stdout",
          "text": [
            "Enter a number: 800\n",
            "num is 800** big number\n"
          ]
        }
      ]
    },
    {
      "cell_type": "code",
      "source": [
        "num2 = int(input('Enter a number'))\n",
        "\n",
        "if (0>num2<33):\n",
        "  print('Fail')\n",
        "\n",
        "elif(33>num2<75):\n",
        "  print('you got 2nd division')\n",
        "\n",
        "elif(75>=num2<=100):\n",
        "  print('you got 1st division')\n",
        "\n",
        "else:\n",
        "  print('value is unknown')"
      ],
      "metadata": {
        "colab": {
          "base_uri": "https://localhost:8080/"
        },
        "id": "VX4cQBCFi4FF",
        "outputId": "ae2d4e7e-6c05-4fd0-dd51-9e726239f7b6"
      },
      "execution_count": 74,
      "outputs": [
        {
          "output_type": "stream",
          "name": "stdout",
          "text": [
            "Enter a number75\n",
            "you got 1st division\n"
          ]
        }
      ]
    },
    {
      "cell_type": "markdown",
      "source": [
        "# Boolean logic is used to make complicated conditions using and,or and not\n",
        "\n",
        "Logical \"and\" operator\n",
        "\n",
        "A=true,  B=true  then  (A and B) is true\n",
        "\n",
        "A=true,  B=false then  (A and B) is false\n",
        "\n",
        "A=false, B=true  then  (A and B) is false\n",
        "\n",
        "A=false, B=false then  (A and B) is false\n"
      ],
      "metadata": {
        "id": "X0MjUgTZnaMV"
      }
    },
    {
      "cell_type": "code",
      "source": [
        "cond = (1==1 and 2==2)\n",
        "print('1==1 and 2==2 is {}'.format(cond))"
      ],
      "metadata": {
        "colab": {
          "base_uri": "https://localhost:8080/"
        },
        "id": "gZ6DJeRflviC",
        "outputId": "5ee80b33-a144-401a-cc14-b2cf758ecab9"
      },
      "execution_count": 75,
      "outputs": [
        {
          "output_type": "stream",
          "name": "stdout",
          "text": [
            "1==1 and 2==2 is True\n"
          ]
        }
      ]
    },
    {
      "cell_type": "code",
      "source": [
        "cond = (1==1 and 2==3)\n",
        "print('1==1 and 2==3 is {}'.format(cond))"
      ],
      "metadata": {
        "colab": {
          "base_uri": "https://localhost:8080/"
        },
        "id": "WwDWmhB-n9cc",
        "outputId": "d4c4af3b-6717-461d-b272-888ab86f59e9"
      },
      "execution_count": 76,
      "outputs": [
        {
          "output_type": "stream",
          "name": "stdout",
          "text": [
            "1==1 and 2==3 is False\n"
          ]
        }
      ]
    },
    {
      "cell_type": "code",
      "source": [
        "cond = (5==6 and 2==2)\n",
        "print('5==6 and 2==2 is {}'.format(cond))"
      ],
      "metadata": {
        "colab": {
          "base_uri": "https://localhost:8080/"
        },
        "id": "HhkqKlmnoRH4",
        "outputId": "ddeab68f-69c5-4a79-c0b9-41db05f01eef"
      },
      "execution_count": 77,
      "outputs": [
        {
          "output_type": "stream",
          "name": "stdout",
          "text": [
            "5==6 and 2==2 is False\n"
          ]
        }
      ]
    },
    {
      "cell_type": "code",
      "source": [
        "cond = (5==6 and 2==4)\n",
        "print('5==6 and 2==4 is {}'.format(cond))"
      ],
      "metadata": {
        "colab": {
          "base_uri": "https://localhost:8080/"
        },
        "id": "aypk4pxUodGh",
        "outputId": "849ce0c9-3ab5-442a-ade3-8890319520e9"
      },
      "execution_count": 78,
      "outputs": [
        {
          "output_type": "stream",
          "name": "stdout",
          "text": [
            "5==6 and 2==4 is False\n"
          ]
        }
      ]
    },
    {
      "cell_type": "markdown",
      "source": [
        "Logical \"or\" operator\n",
        "\n",
        "A=true,  B=true  then  (A or B) is true\n",
        "\n",
        "A=true,  B=false then  (A or B) is true\n",
        "\n",
        "A=false, B=true  then  (A or B) is true\n",
        "\n",
        "A=false, B=false  then (A or B) is false\n"
      ],
      "metadata": {
        "id": "qcllHhiOowKZ"
      }
    },
    {
      "cell_type": "code",
      "source": [
        "cond = (1==1 or 2==2)\n",
        "print('1==1 or 2==2 is {}'.format(cond))"
      ],
      "metadata": {
        "colab": {
          "base_uri": "https://localhost:8080/"
        },
        "id": "powqR-9RomHO",
        "outputId": "651338bc-de2d-4582-e92e-8887b9fbf459"
      },
      "execution_count": 79,
      "outputs": [
        {
          "output_type": "stream",
          "name": "stdout",
          "text": [
            "1==1 or 2==2 is True\n"
          ]
        }
      ]
    },
    {
      "cell_type": "code",
      "source": [
        "cond = (1==1 or 2==3)\n",
        "print('1==1 or 2==3 is {}'.format(cond))"
      ],
      "metadata": {
        "colab": {
          "base_uri": "https://localhost:8080/"
        },
        "id": "3UgpZFKwo77l",
        "outputId": "37a0ad2a-a89e-45ea-83ce-c570568efb27"
      },
      "execution_count": 81,
      "outputs": [
        {
          "output_type": "stream",
          "name": "stdout",
          "text": [
            "1==1 or 2==3 is True\n"
          ]
        }
      ]
    },
    {
      "cell_type": "code",
      "source": [
        "cond = ( 4==5 or 2==2)\n",
        "print('4==5 or 2==2 is {}'.format(cond))"
      ],
      "metadata": {
        "colab": {
          "base_uri": "https://localhost:8080/"
        },
        "id": "bFf6Q4UcpEtW",
        "outputId": "94c8cffb-4219-42a4-9185-491f40185ce9"
      },
      "execution_count": 83,
      "outputs": [
        {
          "output_type": "stream",
          "name": "stdout",
          "text": [
            "4==5 or 2==2 is True\n"
          ]
        }
      ]
    },
    {
      "cell_type": "code",
      "source": [
        "cond = (1==2 or 2==23)\n",
        "print('1==2 or 2==23 is {}'.format(cond))"
      ],
      "metadata": {
        "colab": {
          "base_uri": "https://localhost:8080/"
        },
        "id": "gQ1NpbUXpcsK",
        "outputId": "023e3599-9bac-4f03-a41f-dfe752d9338c"
      },
      "execution_count": 84,
      "outputs": [
        {
          "output_type": "stream",
          "name": "stdout",
          "text": [
            "1==2 or 2==23 is False\n"
          ]
        }
      ]
    },
    {
      "cell_type": "markdown",
      "source": [
        "'not' means the opposite"
      ],
      "metadata": {
        "id": "uvp51IV9pq3C"
      }
    },
    {
      "cell_type": "code",
      "source": [
        "cond = (1==1)\n",
        "not_cond = not cond\n",
        "print('not 1 == 1 is {}'.format(not_cond) )"
      ],
      "metadata": {
        "colab": {
          "base_uri": "https://localhost:8080/"
        },
        "id": "jZItZCw2ppha",
        "outputId": "a949b46d-9ffb-4a31-fd0d-52e548eb6717"
      },
      "execution_count": 85,
      "outputs": [
        {
          "output_type": "stream",
          "name": "stdout",
          "text": [
            "not 1 == 1 is False\n"
          ]
        }
      ]
    },
    {
      "cell_type": "markdown",
      "source": [
        "#While Statement\n"
      ],
      "metadata": {
        "id": "YCWidOPiqho7"
      }
    },
    {
      "cell_type": "markdown",
      "source": [
        "while statement is like if statement\n",
        "\n",
        "Difference between if and while:\n",
        "\n",
        "while executes multiple times - its a type of loop\n"
      ],
      "metadata": {
        "id": "Oen7v5x8qlFA"
      }
    },
    {
      "cell_type": "code",
      "source": [
        "i = 0\n",
        "while i<2:\n",
        "  print(i)\n",
        "  i= i+1"
      ],
      "metadata": {
        "colab": {
          "base_uri": "https://localhost:8080/"
        },
        "id": "3fU9jkxZqksQ",
        "outputId": "abd2b103-157e-4aef-a0ef-80d2cc7d2cd0"
      },
      "execution_count": 86,
      "outputs": [
        {
          "output_type": "stream",
          "name": "stdout",
          "text": [
            "0\n",
            "1\n"
          ]
        }
      ]
    },
    {
      "cell_type": "code",
      "source": [
        "i=0\n",
        "while i<7:\n",
        "  print(i)\n",
        "  i = i+2"
      ],
      "metadata": {
        "colab": {
          "base_uri": "https://localhost:8080/"
        },
        "id": "cmjbiNzmqZ0v",
        "outputId": "f484fa6d-02de-467b-fc38-7e59fda6c3c7"
      },
      "execution_count": 87,
      "outputs": [
        {
          "output_type": "stream",
          "name": "stdout",
          "text": [
            "0\n",
            "2\n",
            "4\n",
            "6\n"
          ]
        }
      ]
    },
    {
      "cell_type": "markdown",
      "source": [
        "#Break Statement\n"
      ],
      "metadata": {
        "id": "zqUphIV7rl7p"
      }
    },
    {
      "cell_type": "markdown",
      "source": [
        "Break Statement is used to break from the loop\n"
      ],
      "metadata": {
        "id": "80N3CDXEro3B"
      }
    },
    {
      "cell_type": "code",
      "source": [
        "i = 0\n",
        "while i<10:\n",
        "  if i ==5:\n",
        "    break \n",
        "  print(i)\n",
        "  i= i+1"
      ],
      "metadata": {
        "colab": {
          "base_uri": "https://localhost:8080/"
        },
        "id": "yHRe1JaqriZH",
        "outputId": "649f88ca-c900-4a61-a0fd-58e5ee409d6d"
      },
      "execution_count": 88,
      "outputs": [
        {
          "output_type": "stream",
          "name": "stdout",
          "text": [
            "0\n",
            "1\n",
            "2\n",
            "3\n",
            "4\n"
          ]
        }
      ]
    },
    {
      "cell_type": "markdown",
      "source": [
        "#Continue Statement\n"
      ],
      "metadata": {
        "id": "Qe_VkuguskL9"
      }
    },
    {
      "cell_type": "markdown",
      "source": [
        "A continue statement stops the flow and goes back again to the starting point of block\n",
        "\n",
        "break - breaks out of the block\n",
        "\n",
        "continue - goes back to the start of the block\n"
      ],
      "metadata": {
        "id": "j46xEov9sm7k"
      }
    },
    {
      "cell_type": "code",
      "source": [
        "i = 0\n",
        "while i<20:\n",
        "  if (i%2 == 0):\n",
        "    i = i+1\n",
        "    continue\n",
        "  print(i)\n",
        "  i= i+1\n"
      ],
      "metadata": {
        "colab": {
          "base_uri": "https://localhost:8080/"
        },
        "id": "HtB4JDEesgXR",
        "outputId": "1a4f45bd-3403-4dd5-d537-d3f45c2c432a"
      },
      "execution_count": 90,
      "outputs": [
        {
          "output_type": "stream",
          "name": "stdout",
          "text": [
            "1\n",
            "3\n",
            "5\n",
            "7\n",
            "9\n",
            "11\n",
            "13\n",
            "15\n",
            "17\n",
            "19\n"
          ]
        }
      ]
    },
    {
      "cell_type": "code",
      "source": [],
      "metadata": {
        "id": "K7MsWCPcteQI"
      },
      "execution_count": null,
      "outputs": []
    }
  ]
}