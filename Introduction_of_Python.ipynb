{
  "nbformat": 4,
  "nbformat_minor": 0,
  "metadata": {
    "colab": {
      "provenance": [],
      "collapsed_sections": [],
      "authorship_tag": "ABX9TyNBehoJe3ct4P9CphCAwqiY",
      "include_colab_link": true
    },
    "kernelspec": {
      "name": "python3",
      "display_name": "Python 3"
    },
    "language_info": {
      "name": "python"
    }
  },
  "cells": [
    {
      "cell_type": "markdown",
      "metadata": {
        "id": "view-in-github",
        "colab_type": "text"
      },
      "source": [
        "<a href=\"https://colab.research.google.com/github/Tahan402/Tahan402/blob/Capstone/Introduction_of_Python.ipynb\" target=\"_parent\"><img src=\"https://colab.research.google.com/assets/colab-badge.svg\" alt=\"Open In Colab\"/></a>"
      ]
    },
    {
      "cell_type": "markdown",
      "source": [
        "Introduction to Python"
      ],
      "metadata": {
        "id": "x0qpp2IJMLC2"
      }
    },
    {
      "cell_type": "code",
      "execution_count": 1,
      "metadata": {
        "id": "Ozh1maz0MAH_"
      },
      "outputs": [],
      "source": [
        "data = 123 # the data is a number"
      ]
    },
    {
      "cell_type": "code",
      "source": [
        "print(data)"
      ],
      "metadata": {
        "colab": {
          "base_uri": "https://localhost:8080/"
        },
        "id": "Va-Lnzm0MlIr",
        "outputId": "cb759cc1-b44e-4fff-84f9-75880f052687"
      },
      "execution_count": 2,
      "outputs": [
        {
          "output_type": "stream",
          "name": "stdout",
          "text": [
            "123\n"
          ]
        }
      ]
    },
    {
      "cell_type": "code",
      "source": [
        "data_string ='Taha' #data is now a string"
      ],
      "metadata": {
        "id": "jUP6Qk18Mmys"
      },
      "execution_count": 4,
      "outputs": []
    },
    {
      "cell_type": "code",
      "source": [
        "print(data_string)"
      ],
      "metadata": {
        "colab": {
          "base_uri": "https://localhost:8080/"
        },
        "id": "ZjEGjopjMz-q",
        "outputId": "24d87c9b-ea9c-400e-e3e6-c81fc1aa0a2d"
      },
      "execution_count": 5,
      "outputs": [
        {
          "output_type": "stream",
          "name": "stdout",
          "text": [
            "Taha\n"
          ]
        }
      ]
    },
    {
      "cell_type": "code",
      "source": [
        "x = 10205 # intializing a variable called x\n",
        "print(x)"
      ],
      "metadata": {
        "colab": {
          "base_uri": "https://localhost:8080/"
        },
        "id": "9g9QaOTBM59K",
        "outputId": "97cb89ff-c232-4e70-966b-6340de84dddc"
      },
      "execution_count": 6,
      "outputs": [
        {
          "output_type": "stream",
          "name": "stdout",
          "text": [
            "10205\n"
          ]
        }
      ]
    },
    {
      "cell_type": "code",
      "source": [
        "y = 14\n",
        "print(y)"
      ],
      "metadata": {
        "colab": {
          "base_uri": "https://localhost:8080/"
        },
        "id": "ppw2gLyoNE2Z",
        "outputId": "91e2d224-0cd2-41f3-efe4-980d2c598e72"
      },
      "execution_count": 7,
      "outputs": [
        {
          "output_type": "stream",
          "name": "stdout",
          "text": [
            "14\n"
          ]
        }
      ]
    },
    {
      "cell_type": "code",
      "source": [
        "print('sum of x and y is',x+y)"
      ],
      "metadata": {
        "colab": {
          "base_uri": "https://localhost:8080/"
        },
        "id": "AxSGNGAGNKQ1",
        "outputId": "e4b684ce-a7e8-4ca6-a954-c9f5c10016a7"
      },
      "execution_count": 8,
      "outputs": [
        {
          "output_type": "stream",
          "name": "stdout",
          "text": [
            "sum of x and y is 10219\n"
          ]
        }
      ]
    },
    {
      "cell_type": "markdown",
      "source": [
        "#Different types of variables are allowed in Python:"
      ],
      "metadata": {
        "id": "Vfe6rfB0NfyG"
      }
    },
    {
      "cell_type": "markdown",
      "source": [
        "int (plain integers): integers are just positive or negative whole numbers\n"
      ],
      "metadata": {
        "id": "NnanhV9ONhLx"
      }
    },
    {
      "cell_type": "code",
      "source": [
        "age = 28 # this is an integer variable\n",
        "print(age)\n",
        "print(type(age)) # Returns the type of the variable"
      ],
      "metadata": {
        "colab": {
          "base_uri": "https://localhost:8080/"
        },
        "id": "kymLPQzjNU_q",
        "outputId": "d60c55fb-ad2d-49ea-8713-6fefa15a6ad1"
      },
      "execution_count": 9,
      "outputs": [
        {
          "output_type": "stream",
          "name": "stdout",
          "text": [
            "28\n",
            "<class 'int'>\n"
          ]
        }
      ]
    },
    {
      "cell_type": "markdown",
      "source": [
        "long (long integers): long integers are integers of infinite size\n",
        "\n",
        "In Python 3 int and long have been merged. We only need to use int data type\n"
      ],
      "metadata": {
        "id": "uCY9ktXAOULx"
      }
    },
    {
      "cell_type": "code",
      "source": [
        "a = 2**150 \n",
        "print(a)\n",
        "print(type(a))"
      ],
      "metadata": {
        "colab": {
          "base_uri": "https://localhost:8080/"
        },
        "id": "R0zTSZkkOLps",
        "outputId": "05c6e6ca-2c08-4013-ef19-7abaacab048b"
      },
      "execution_count": 10,
      "outputs": [
        {
          "output_type": "stream",
          "name": "stdout",
          "text": [
            "1427247692705959881058285969449495136382746624\n",
            "<class 'int'>\n"
          ]
        }
      ]
    },
    {
      "cell_type": "markdown",
      "source": [
        "float (floating point real values): floats represent real numbers, but are written with decimal points (or scientific notation) to divide the whole number into fractional parts\n"
      ],
      "metadata": {
        "id": "FaGnl3EIOsXG"
      }
    },
    {
      "cell_type": "code",
      "source": [
        "pi = 3.1416\n",
        "print(pi)\n",
        "print(type(pi))"
      ],
      "metadata": {
        "colab": {
          "base_uri": "https://localhost:8080/"
        },
        "id": "-Zqh4lyTOizu",
        "outputId": "b936728b-a26a-4067-81ea-aff30c6f3a1e"
      },
      "execution_count": 11,
      "outputs": [
        {
          "output_type": "stream",
          "name": "stdout",
          "text": [
            "3.1416\n",
            "<class 'float'>\n"
          ]
        }
      ]
    },
    {
      "cell_type": "markdown",
      "source": [
        "Boolean variables: They take a binary value of \"True or False\", True and False\n",
        "\n",
        "Python is case sensitive. \"True and False\" are special keywords reserved for boolean\n"
      ],
      "metadata": {
        "id": "ScI-WX4-PSOG"
      }
    },
    {
      "cell_type": "code",
      "source": [
        "name = 'taha'\n",
        "print(name)\n",
        "print(type(name))"
      ],
      "metadata": {
        "colab": {
          "base_uri": "https://localhost:8080/"
        },
        "id": "DCSGQ41kPGLi",
        "outputId": "367b9e2f-93f1-4a06-b8f0-d1cf4e1d2f89"
      },
      "execution_count": 12,
      "outputs": [
        {
          "output_type": "stream",
          "name": "stdout",
          "text": [
            "taha\n",
            "<class 'str'>\n"
          ]
        }
      ]
    },
    {
      "cell_type": "markdown",
      "source": [
        "Strings can be created using single quote ', double quotes '' or triple quotes \"\"\" \"\"\"\n"
      ],
      "metadata": {
        "id": "-a7dSBY-P6f_"
      }
    },
    {
      "cell_type": "code",
      "source": [
        "first_name = 'Taha'\n",
        "print(first_name)\n",
        "last_name = \"nakedar\"\n",
        "print(last_name)"
      ],
      "metadata": {
        "colab": {
          "base_uri": "https://localhost:8080/"
        },
        "id": "_02Mw7oNPqnP",
        "outputId": "0494d286-96ac-44a8-bd7d-1a90be1fbee5"
      },
      "execution_count": 13,
      "outputs": [
        {
          "output_type": "stream",
          "name": "stdout",
          "text": [
            "Taha\n",
            "nakedar\n"
          ]
        }
      ]
    },
    {
      "cell_type": "code",
      "source": [
        "first_name = input('First Name: ',)\n",
        "last_name = input ('Last Name: ')"
      ],
      "metadata": {
        "colab": {
          "base_uri": "https://localhost:8080/"
        },
        "id": "ZdrvRoSjQLIn",
        "outputId": "26166449-869a-4ca3-91aa-49685b0b70d6"
      },
      "execution_count": 15,
      "outputs": [
        {
          "name": "stdout",
          "output_type": "stream",
          "text": [
            "First Name: Taha\n",
            "Last Name: Nakedar\n"
          ]
        }
      ]
    },
    {
      "cell_type": "markdown",
      "source": [
        "complex (complex numbers): represented by the formula a + bJ, where a and b are floats, and J is the square root of -1 (the result of which is an imaginary number). Complex numbers are used sparingly in Python\n"
      ],
      "metadata": {
        "id": "bNRzpbRvR041"
      }
    },
    {
      "cell_type": "code",
      "source": [
        "c= 4 + 5j # c is a complex variable with real component 4 and imaginary component is 5\n",
        "print(c)"
      ],
      "metadata": {
        "colab": {
          "base_uri": "https://localhost:8080/"
        },
        "id": "QWoZPko0Qrug",
        "outputId": "f17f5bc8-0e2b-4240-f538-eb1a41af3a66"
      },
      "execution_count": 17,
      "outputs": [
        {
          "output_type": "stream",
          "name": "stdout",
          "text": [
            "(4+5j)\n"
          ]
        }
      ]
    },
    {
      "cell_type": "markdown",
      "source": [
        "#Mathematical Operators\n"
      ],
      "metadata": {
        "id": "OeakjOiuSYMr"
      }
    },
    {
      "cell_type": "code",
      "source": [
        "x = 11\n",
        "y = 14\n"
      ],
      "metadata": {
        "id": "diKZodCRSGVz"
      },
      "execution_count": 18,
      "outputs": []
    },
    {
      "cell_type": "code",
      "source": [
        "z=x+y"
      ],
      "metadata": {
        "id": "XF1QW0deS7CW"
      },
      "execution_count": 19,
      "outputs": []
    },
    {
      "cell_type": "code",
      "source": [
        "z"
      ],
      "metadata": {
        "colab": {
          "base_uri": "https://localhost:8080/"
        },
        "id": "093krtFDS806",
        "outputId": "2ba3f9d7-aa96-48fa-9933-233e47285b5d"
      },
      "execution_count": 20,
      "outputs": [
        {
          "output_type": "execute_result",
          "data": {
            "text/plain": [
              "25"
            ]
          },
          "metadata": {},
          "execution_count": 20
        }
      ]
    },
    {
      "cell_type": "code",
      "source": [
        "z= x-y"
      ],
      "metadata": {
        "id": "ozGKWrqHS9dG"
      },
      "execution_count": 21,
      "outputs": []
    },
    {
      "cell_type": "code",
      "source": [
        "z"
      ],
      "metadata": {
        "colab": {
          "base_uri": "https://localhost:8080/"
        },
        "id": "ZcijtCabTaqK",
        "outputId": "d4a3a68f-28f6-4dc6-d25b-c0525ec11c1a"
      },
      "execution_count": 22,
      "outputs": [
        {
          "output_type": "execute_result",
          "data": {
            "text/plain": [
              "-3"
            ]
          },
          "metadata": {},
          "execution_count": 22
        }
      ]
    },
    {
      "cell_type": "code",
      "source": [
        "z=x*y"
      ],
      "metadata": {
        "id": "FEecvEkuTa-4"
      },
      "execution_count": 23,
      "outputs": []
    },
    {
      "cell_type": "code",
      "source": [
        "z"
      ],
      "metadata": {
        "colab": {
          "base_uri": "https://localhost:8080/"
        },
        "id": "os1kCLeITcPK",
        "outputId": "0c3f7b62-985d-47f1-9364-7ed7454b7985"
      },
      "execution_count": 24,
      "outputs": [
        {
          "output_type": "execute_result",
          "data": {
            "text/plain": [
              "154"
            ]
          },
          "metadata": {},
          "execution_count": 24
        }
      ]
    },
    {
      "cell_type": "code",
      "source": [
        "z=x/y"
      ],
      "metadata": {
        "id": "N4FPQt6FTc7H"
      },
      "execution_count": 25,
      "outputs": []
    },
    {
      "cell_type": "code",
      "source": [
        "z"
      ],
      "metadata": {
        "colab": {
          "base_uri": "https://localhost:8080/"
        },
        "id": "No4yf6voTkIq",
        "outputId": "c7920ede-92f7-4388-9660-34421a680cf4"
      },
      "execution_count": 26,
      "outputs": [
        {
          "output_type": "execute_result",
          "data": {
            "text/plain": [
              "0.7857142857142857"
            ]
          },
          "metadata": {},
          "execution_count": 26
        }
      ]
    },
    {
      "cell_type": "code",
      "source": [
        "z =x**y #exponent\n",
        "print(z)"
      ],
      "metadata": {
        "colab": {
          "base_uri": "https://localhost:8080/"
        },
        "id": "PK9Iw478TlWT",
        "outputId": "28aa6262-ccad-4ba7-dda4-9b02bd96f73f"
      },
      "execution_count": 28,
      "outputs": [
        {
          "output_type": "stream",
          "name": "stdout",
          "text": [
            "379749833583241\n"
          ]
        }
      ]
    },
    {
      "cell_type": "code",
      "source": [
        "z=x%y # modulus"
      ],
      "metadata": {
        "id": "8Y9SNph7Tv6S"
      },
      "execution_count": 29,
      "outputs": []
    },
    {
      "cell_type": "code",
      "source": [
        "z"
      ],
      "metadata": {
        "colab": {
          "base_uri": "https://localhost:8080/"
        },
        "id": "2OFzowwWUDqe",
        "outputId": "9eab2e80-f307-4d8d-9bcf-8bf5ca70520a"
      },
      "execution_count": 30,
      "outputs": [
        {
          "output_type": "execute_result",
          "data": {
            "text/plain": [
              "11"
            ]
          },
          "metadata": {},
          "execution_count": 30
        }
      ]
    },
    {
      "cell_type": "code",
      "source": [
        "print('\\nDivision 11/14 = {}'.format(x/y)) # Division of two numbers\n",
        "print('\\nQuotient 11//14 = {}'.format(x//y)) # Returns the Quotient from the division of two numbres\n",
        "print('\\nRemainder 11%14 = {}'.format(x%y)) # Returns reaminder division of two numbers"
      ],
      "metadata": {
        "colab": {
          "base_uri": "https://localhost:8080/"
        },
        "id": "tUHuYTaMUERU",
        "outputId": "b57124e2-d7a8-49f4-869a-5adb100c1951"
      },
      "execution_count": 31,
      "outputs": [
        {
          "output_type": "stream",
          "name": "stdout",
          "text": [
            "\n",
            "Division 11/14 = 0.7857142857142857\n",
            "\n",
            "Quotient 11//14 = 0\n",
            "\n",
            "Remainder 11%14 = 11\n"
          ]
        }
      ]
    },
    {
      "cell_type": "markdown",
      "source": [
        "Inplace Operators"
      ],
      "metadata": {
        "id": "ne-NDPpmWLpf"
      }
    },
    {
      "cell_type": "code",
      "source": [
        "data = 2\n",
        "data +=3 # this is as same as data + 3\n",
        "print(data)"
      ],
      "metadata": {
        "colab": {
          "base_uri": "https://localhost:8080/"
        },
        "id": "VvakHxQiV4d7",
        "outputId": "72058178-5f80-4ff5-d5e0-0cfae13703c1"
      },
      "execution_count": 33,
      "outputs": [
        {
          "output_type": "stream",
          "name": "stdout",
          "text": [
            "5\n"
          ]
        }
      ]
    },
    {
      "cell_type": "markdown",
      "source": [
        "Strings can be accessed as whole strings or as sub strings\n"
      ],
      "metadata": {
        "id": "xl04Uqh3WwjX"
      }
    },
    {
      "cell_type": "code",
      "source": [
        "my_string = 'Python language'\n",
        "print(my_string)\n",
        "\n",
        "print(my_string[0])\n",
        "\n",
        "print(my_string[0:3]) # prints the character from position 0 to 2\n",
        "\n",
        "print(my_string[-3:-1]) # prints the character from position 0 to 2 in reverse order except the character at position 0\n",
        "\n",
        "print(my_string[-3:]) # prints the character from position 0 to 2 only from the end\n",
        "\n",
        "print(my_string[:]) # prints all the character\n"
      ],
      "metadata": {
        "colab": {
          "base_uri": "https://localhost:8080/"
        },
        "id": "3MdYAHXnWdCK",
        "outputId": "605a5ebb-ff69-4a7e-8fff-bacb1bd53bc1"
      },
      "execution_count": 36,
      "outputs": [
        {
          "output_type": "stream",
          "name": "stdout",
          "text": [
            "Python language\n",
            "P\n",
            "Pyt\n",
            "ag\n",
            "age\n",
            "Python language\n"
          ]
        }
      ]
    },
    {
      "cell_type": "code",
      "source": [],
      "metadata": {
        "id": "oHrzia2UXCbZ"
      },
      "execution_count": null,
      "outputs": []
    }
  ]
}