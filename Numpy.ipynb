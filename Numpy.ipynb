{
  "nbformat": 4,
  "nbformat_minor": 0,
  "metadata": {
    "colab": {
      "provenance": [],
      "collapsed_sections": [],
      "authorship_tag": "ABX9TyN4PweYkP7Eu8tX8PAHP+Di",
      "include_colab_link": true
    },
    "kernelspec": {
      "name": "python3",
      "display_name": "Python 3"
    },
    "language_info": {
      "name": "python"
    }
  },
  "cells": [
    {
      "cell_type": "markdown",
      "metadata": {
        "id": "view-in-github",
        "colab_type": "text"
      },
      "source": [
        "<a href=\"https://colab.research.google.com/github/Tahan402/Tahan402/blob/Capstone/Numpy.ipynb\" target=\"_parent\"><img src=\"https://colab.research.google.com/assets/colab-badge.svg\" alt=\"Open In Colab\"/></a>"
      ]
    },
    {
      "cell_type": "markdown",
      "source": [
        "#Numpy\n"
      ],
      "metadata": {
        "id": "qTrq5iN9QXel"
      }
    },
    {
      "cell_type": "markdown",
      "source": [
        "NumPy is a Linear Algebra Library for Python. \n",
        "\n",
        "All libraries use numpy as a base for building other libraries.\n",
        " \n",
        "Numpy is also very fast\n"
      ],
      "metadata": {
        "id": "IqTUlKGCQeVD"
      }
    },
    {
      "cell_type": "markdown",
      "source": [
        "Import numpy as a library. np is a general convention\n"
      ],
      "metadata": {
        "id": "TZybPP_4QmBq"
      }
    },
    {
      "cell_type": "code",
      "execution_count": 1,
      "metadata": {
        "id": "v3ZxzOxyNR_d"
      },
      "outputs": [],
      "source": [
        "import numpy as np\n",
        "import pandas as pd"
      ]
    },
    {
      "cell_type": "markdown",
      "source": [
        "#Numpy usage\n"
      ],
      "metadata": {
        "id": "N8JSS2M2Qx1R"
      }
    },
    {
      "cell_type": "markdown",
      "source": [
        "* Using Numpy we can create vectors, arrays, matrices and generate random numbers.\n",
        "\n",
        "* NumPy arrays essentially come in two types: vectors and matrices.\n",
        "\n",
        "* Vectors are strictly 1-D arrays and matrices are 2-D arrays. They are a list or a list of lists"
      ],
      "metadata": {
        "id": "GYw0crh6Q5EM"
      }
    },
    {
      "cell_type": "code",
      "source": [
        "list1 = [25,20,58]\n",
        "list1"
      ],
      "metadata": {
        "colab": {
          "base_uri": "https://localhost:8080/"
        },
        "id": "6MJxGBNlQUe5",
        "outputId": "94151d56-83f3-427c-85c5-84747462a25e"
      },
      "execution_count": 2,
      "outputs": [
        {
          "output_type": "execute_result",
          "data": {
            "text/plain": [
              "[25, 20, 58]"
            ]
          },
          "metadata": {},
          "execution_count": 2
        }
      ]
    },
    {
      "cell_type": "code",
      "source": [
        "np.array(list1)"
      ],
      "metadata": {
        "colab": {
          "base_uri": "https://localhost:8080/"
        },
        "id": "dfpTH13nRiRA",
        "outputId": "05e36e0a-d644-4235-ea1b-dcb772ea29cc"
      },
      "execution_count": 3,
      "outputs": [
        {
          "output_type": "execute_result",
          "data": {
            "text/plain": [
              "array([25, 20, 58])"
            ]
          },
          "metadata": {},
          "execution_count": 3
        }
      ]
    },
    {
      "cell_type": "code",
      "source": [
        "a =np.array([[12.0,5.0,8.0],[25.0,15.0,62.0]])\n",
        "print(a)"
      ],
      "metadata": {
        "colab": {
          "base_uri": "https://localhost:8080/"
        },
        "id": "F-4iKKRORwRj",
        "outputId": "51372f4e-1bb0-4065-eef9-59678fde39f4"
      },
      "execution_count": 4,
      "outputs": [
        {
          "output_type": "stream",
          "name": "stdout",
          "text": [
            "[[12.  5.  8.]\n",
            " [25. 15. 62.]]\n"
          ]
        }
      ]
    },
    {
      "cell_type": "markdown",
      "source": [
        "Get the dimension of 'a'"
      ],
      "metadata": {
        "id": "FiLDgBrISz4j"
      }
    },
    {
      "cell_type": "code",
      "source": [
        "a.ndim # row is one dimension and column is another dimension"
      ],
      "metadata": {
        "colab": {
          "base_uri": "https://localhost:8080/"
        },
        "id": "CUXHX2MASiCP",
        "outputId": "1f507d0c-e587-46b8-ecd9-cc156d7cb147"
      },
      "execution_count": 5,
      "outputs": [
        {
          "output_type": "execute_result",
          "data": {
            "text/plain": [
              "2"
            ]
          },
          "metadata": {},
          "execution_count": 5
        }
      ]
    },
    {
      "cell_type": "code",
      "source": [
        "a.shape"
      ],
      "metadata": {
        "colab": {
          "base_uri": "https://localhost:8080/"
        },
        "id": "iL4AZClcTATF",
        "outputId": "5dd4a5e9-7946-4446-966b-dc6e20a7a960"
      },
      "execution_count": 6,
      "outputs": [
        {
          "output_type": "execute_result",
          "data": {
            "text/plain": [
              "(2, 3)"
            ]
          },
          "metadata": {},
          "execution_count": 6
        }
      ]
    },
    {
      "cell_type": "code",
      "source": [
        "b = np.array(list1)"
      ],
      "metadata": {
        "id": "ZN8ErRqATULP"
      },
      "execution_count": 7,
      "outputs": []
    },
    {
      "cell_type": "code",
      "source": [
        "print(b)"
      ],
      "metadata": {
        "colab": {
          "base_uri": "https://localhost:8080/"
        },
        "id": "jZWFtiX1TkNE",
        "outputId": "afa09e6e-e868-4317-eae3-7d5ede897080"
      },
      "execution_count": 8,
      "outputs": [
        {
          "output_type": "stream",
          "name": "stdout",
          "text": [
            "[25 20 58]\n"
          ]
        }
      ]
    },
    {
      "cell_type": "code",
      "source": [
        "b.ndim"
      ],
      "metadata": {
        "colab": {
          "base_uri": "https://localhost:8080/"
        },
        "id": "4XknzlWJTky9",
        "outputId": "e175e3b6-093f-4c64-8fca-c8c56f808f49"
      },
      "execution_count": 9,
      "outputs": [
        {
          "output_type": "execute_result",
          "data": {
            "text/plain": [
              "1"
            ]
          },
          "metadata": {},
          "execution_count": 9
        }
      ]
    },
    {
      "cell_type": "code",
      "source": [
        "b.shape"
      ],
      "metadata": {
        "colab": {
          "base_uri": "https://localhost:8080/"
        },
        "id": "Vk1_Oia9Tqu_",
        "outputId": "24ab43e4-e8d6-4aee-fbf1-c0792e56ed99"
      },
      "execution_count": 10,
      "outputs": [
        {
          "output_type": "execute_result",
          "data": {
            "text/plain": [
              "(3,)"
            ]
          },
          "metadata": {},
          "execution_count": 10
        }
      ]
    },
    {
      "cell_type": "code",
      "source": [
        "c =np.array([[12.0,25.0,36.0],[52.0,65.0,24.0],[85.0,87.0,95.0],[78.0,56.0,23.0]])"
      ],
      "metadata": {
        "id": "whLJsB-zTsrS"
      },
      "execution_count": 11,
      "outputs": []
    },
    {
      "cell_type": "code",
      "source": [
        "print(c)"
      ],
      "metadata": {
        "colab": {
          "base_uri": "https://localhost:8080/"
        },
        "id": "tcczKo_QURNF",
        "outputId": "6fe9231f-c748-4181-a39a-027447a74df9"
      },
      "execution_count": 12,
      "outputs": [
        {
          "output_type": "stream",
          "name": "stdout",
          "text": [
            "[[12. 25. 36.]\n",
            " [52. 65. 24.]\n",
            " [85. 87. 95.]\n",
            " [78. 56. 23.]]\n"
          ]
        }
      ]
    },
    {
      "cell_type": "code",
      "source": [
        "c.ndim"
      ],
      "metadata": {
        "colab": {
          "base_uri": "https://localhost:8080/"
        },
        "id": "jjtImTXqUTfM",
        "outputId": "12aa0ac0-0332-4607-f9fc-5154f16e9535"
      },
      "execution_count": 13,
      "outputs": [
        {
          "output_type": "execute_result",
          "data": {
            "text/plain": [
              "2"
            ]
          },
          "metadata": {},
          "execution_count": 13
        }
      ]
    },
    {
      "cell_type": "code",
      "source": [
        "c.shape"
      ],
      "metadata": {
        "colab": {
          "base_uri": "https://localhost:8080/"
        },
        "id": "A9tU9wJsUlDN",
        "outputId": "7fed94ca-e67d-4343-a319-d6ce4831bd2c"
      },
      "execution_count": 14,
      "outputs": [
        {
          "output_type": "execute_result",
          "data": {
            "text/plain": [
              "(4, 3)"
            ]
          },
          "metadata": {},
          "execution_count": 14
        }
      ]
    },
    {
      "cell_type": "code",
      "source": [
        "d = np.array([[[100,25],[36,42]],[[56,85],[96,23]],[[56,96],[38,75]]])"
      ],
      "metadata": {
        "id": "Z0P5dvSOUndB"
      },
      "execution_count": 15,
      "outputs": []
    },
    {
      "cell_type": "code",
      "source": [
        "print(d)"
      ],
      "metadata": {
        "colab": {
          "base_uri": "https://localhost:8080/"
        },
        "id": "lvbOYtkrWkez",
        "outputId": "9d55d241-02c2-477c-efcd-32d130f1e03c"
      },
      "execution_count": 16,
      "outputs": [
        {
          "output_type": "stream",
          "name": "stdout",
          "text": [
            "[[[100  25]\n",
            "  [ 36  42]]\n",
            "\n",
            " [[ 56  85]\n",
            "  [ 96  23]]\n",
            "\n",
            " [[ 56  96]\n",
            "  [ 38  75]]]\n"
          ]
        }
      ]
    },
    {
      "cell_type": "code",
      "source": [
        "d.ndim"
      ],
      "metadata": {
        "colab": {
          "base_uri": "https://localhost:8080/"
        },
        "id": "i2ehDVoUWmho",
        "outputId": "70653cc9-8c43-4af9-c663-19889f0416e5"
      },
      "execution_count": 17,
      "outputs": [
        {
          "output_type": "execute_result",
          "data": {
            "text/plain": [
              "3"
            ]
          },
          "metadata": {},
          "execution_count": 17
        }
      ]
    },
    {
      "cell_type": "code",
      "source": [
        "d.shape"
      ],
      "metadata": {
        "colab": {
          "base_uri": "https://localhost:8080/"
        },
        "id": "VBDKWThBXOZm",
        "outputId": "a196a343-6ca2-4c0d-db66-d0daae1a765a"
      },
      "execution_count": 18,
      "outputs": [
        {
          "output_type": "execute_result",
          "data": {
            "text/plain": [
              "(3, 2, 2)"
            ]
          },
          "metadata": {},
          "execution_count": 18
        }
      ]
    },
    {
      "cell_type": "markdown",
      "source": [
        "Finding the Datatype"
      ],
      "metadata": {
        "id": "tWoh4pIqY9zP"
      }
    },
    {
      "cell_type": "code",
      "source": [
        "b.dtype"
      ],
      "metadata": {
        "colab": {
          "base_uri": "https://localhost:8080/"
        },
        "id": "5huRCckHX-DH",
        "outputId": "2cd40c16-2ce2-4191-aab6-ae3c11eb59a6"
      },
      "execution_count": 19,
      "outputs": [
        {
          "output_type": "execute_result",
          "data": {
            "text/plain": [
              "dtype('int64')"
            ]
          },
          "metadata": {},
          "execution_count": 19
        }
      ]
    },
    {
      "cell_type": "markdown",
      "source": [
        "Finding the size of an Array"
      ],
      "metadata": {
        "id": "9w54Dn6nZQqP"
      }
    },
    {
      "cell_type": "code",
      "source": [
        "a.itemsize #item size will be 8 because this array consists of integers and size of integers( in bytes) in 8 bytes"
      ],
      "metadata": {
        "colab": {
          "base_uri": "https://localhost:8080/"
        },
        "id": "5_g6ME9GZJTV",
        "outputId": "803c7943-afa3-4f29-c721-404ef22cca92"
      },
      "execution_count": 20,
      "outputs": [
        {
          "output_type": "execute_result",
          "data": {
            "text/plain": [
              "8"
            ]
          },
          "metadata": {},
          "execution_count": 20
        }
      ]
    },
    {
      "cell_type": "code",
      "source": [
        "a.size #this is for getting number of items in an array "
      ],
      "metadata": {
        "colab": {
          "base_uri": "https://localhost:8080/"
        },
        "id": "0SMs8P1MZdSy",
        "outputId": "83ee6794-799b-452a-c7c2-c5a4af734fd7"
      },
      "execution_count": 21,
      "outputs": [
        {
          "output_type": "execute_result",
          "data": {
            "text/plain": [
              "6"
            ]
          },
          "metadata": {},
          "execution_count": 21
        }
      ]
    },
    {
      "cell_type": "code",
      "source": [
        "b.size"
      ],
      "metadata": {
        "colab": {
          "base_uri": "https://localhost:8080/"
        },
        "id": "6y3xMIJ3bN5L",
        "outputId": "c6d75209-4ecf-44ee-9d25-d123265c2601"
      },
      "execution_count": 22,
      "outputs": [
        {
          "output_type": "execute_result",
          "data": {
            "text/plain": [
              "3"
            ]
          },
          "metadata": {},
          "execution_count": 22
        }
      ]
    },
    {
      "cell_type": "code",
      "source": [
        "a.nbytes # 6 items * 8 bytes each"
      ],
      "metadata": {
        "colab": {
          "base_uri": "https://localhost:8080/"
        },
        "id": "Gj074ztWbWJE",
        "outputId": "11a54327-44a8-4abd-fc32-50b44311047e"
      },
      "execution_count": 23,
      "outputs": [
        {
          "output_type": "execute_result",
          "data": {
            "text/plain": [
              "48"
            ]
          },
          "metadata": {},
          "execution_count": 23
        }
      ]
    },
    {
      "cell_type": "code",
      "source": [
        "b.nbytes"
      ],
      "metadata": {
        "colab": {
          "base_uri": "https://localhost:8080/"
        },
        "id": "ZH1TAdribfDo",
        "outputId": "71cdc8f4-6af1-41fa-b1fa-e31b02b00b13"
      },
      "execution_count": 24,
      "outputs": [
        {
          "output_type": "execute_result",
          "data": {
            "text/plain": [
              "24"
            ]
          },
          "metadata": {},
          "execution_count": 24
        }
      ]
    },
    {
      "cell_type": "markdown",
      "source": [
        "#Accessing/Changing specific elements, rows, columns, etc\n"
      ],
      "metadata": {
        "id": "cQBc6n6dZLYy"
      }
    },
    {
      "cell_type": "code",
      "source": [
        "a =  np.array([[1,5,6,8,7,9],[86,77,94,35,12,41]])"
      ],
      "metadata": {
        "id": "yJy_olZfbzBp"
      },
      "execution_count": 33,
      "outputs": []
    },
    {
      "cell_type": "code",
      "source": [
        "print(a)"
      ],
      "metadata": {
        "colab": {
          "base_uri": "https://localhost:8080/"
        },
        "id": "mBtxk9YdZYqS",
        "outputId": "729b6d52-bb9e-4674-cc8f-cac00392e082"
      },
      "execution_count": 34,
      "outputs": [
        {
          "output_type": "stream",
          "name": "stdout",
          "text": [
            "[[ 1  5  6  8  7  9]\n",
            " [86 77 94 35 12 41]]\n"
          ]
        }
      ]
    },
    {
      "cell_type": "markdown",
      "source": [
        "Get a specific element from [r*c] "
      ],
      "metadata": {
        "id": "kCboi6OTZ6o5"
      }
    },
    {
      "cell_type": "code",
      "source": [
        "a[1,5]"
      ],
      "metadata": {
        "colab": {
          "base_uri": "https://localhost:8080/"
        },
        "id": "LWrQgyhiZhNb",
        "outputId": "c9e4e84c-ea1b-4769-bff8-f95bcbcbd287"
      },
      "execution_count": 35,
      "outputs": [
        {
          "output_type": "execute_result",
          "data": {
            "text/plain": [
              "41"
            ]
          },
          "metadata": {},
          "execution_count": 35
        }
      ]
    },
    {
      "cell_type": "code",
      "source": [
        "a[0,4]"
      ],
      "metadata": {
        "colab": {
          "base_uri": "https://localhost:8080/"
        },
        "id": "vQd3umsKaXK8",
        "outputId": "7201b666-7861-4b4e-9e13-a33965ba9d93"
      },
      "execution_count": 36,
      "outputs": [
        {
          "output_type": "execute_result",
          "data": {
            "text/plain": [
              "7"
            ]
          },
          "metadata": {},
          "execution_count": 36
        }
      ]
    },
    {
      "cell_type": "markdown",
      "source": [
        "Get a specific row"
      ],
      "metadata": {
        "id": "AEMwOgr_bO-D"
      }
    },
    {
      "cell_type": "code",
      "source": [
        "a[0,:]"
      ],
      "metadata": {
        "colab": {
          "base_uri": "https://localhost:8080/"
        },
        "id": "OZKVMyp0a8qd",
        "outputId": "7e7ba5f4-f90d-491e-a5d6-7fca482c3e55"
      },
      "execution_count": 37,
      "outputs": [
        {
          "output_type": "execute_result",
          "data": {
            "text/plain": [
              "array([1, 5, 6, 8, 7, 9])"
            ]
          },
          "metadata": {},
          "execution_count": 37
        }
      ]
    },
    {
      "cell_type": "markdown",
      "source": [
        "Get a specific column"
      ],
      "metadata": {
        "id": "FWD17T8_bccn"
      }
    },
    {
      "cell_type": "code",
      "source": [
        "a[:,1]"
      ],
      "metadata": {
        "colab": {
          "base_uri": "https://localhost:8080/"
        },
        "id": "IGlxil0xbVt6",
        "outputId": "1d596887-eef3-4a8f-ed46-d4c833728865"
      },
      "execution_count": 38,
      "outputs": [
        {
          "output_type": "execute_result",
          "data": {
            "text/plain": [
              "array([ 5, 77])"
            ]
          },
          "metadata": {},
          "execution_count": 38
        }
      ]
    },
    {
      "cell_type": "markdown",
      "source": [
        "Getting into a bit more fancy operations [startindex:endindex:stepsize]\n"
      ],
      "metadata": {
        "id": "dkUWA53Fb2L0"
      }
    },
    {
      "cell_type": "code",
      "source": [
        "a[0,1: -1:2]"
      ],
      "metadata": {
        "colab": {
          "base_uri": "https://localhost:8080/"
        },
        "id": "cqygtGAVblBv",
        "outputId": "5dbd9061-564c-4fc6-f7e8-e26b138d28df"
      },
      "execution_count": 39,
      "outputs": [
        {
          "output_type": "execute_result",
          "data": {
            "text/plain": [
              "array([5, 8])"
            ]
          },
          "metadata": {},
          "execution_count": 39
        }
      ]
    },
    {
      "cell_type": "code",
      "source": [
        "a[1,1:-1:3]"
      ],
      "metadata": {
        "colab": {
          "base_uri": "https://localhost:8080/"
        },
        "id": "YtopiblfcXqG",
        "outputId": "3a858b73-25d5-4853-99c5-57fd07ec4132"
      },
      "execution_count": 40,
      "outputs": [
        {
          "output_type": "execute_result",
          "data": {
            "text/plain": [
              "array([77, 12])"
            ]
          },
          "metadata": {},
          "execution_count": 40
        }
      ]
    },
    {
      "cell_type": "code",
      "source": [
        "a[1,5]"
      ],
      "metadata": {
        "colab": {
          "base_uri": "https://localhost:8080/"
        },
        "id": "9wvQoNqudXJ-",
        "outputId": "b713b083-d317-4c9d-f869-43a7339cf21f"
      },
      "execution_count": 41,
      "outputs": [
        {
          "output_type": "execute_result",
          "data": {
            "text/plain": [
              "41"
            ]
          },
          "metadata": {},
          "execution_count": 41
        }
      ]
    },
    {
      "cell_type": "markdown",
      "source": [
        "Changing the elements in array"
      ],
      "metadata": {
        "id": "3CPLDKSOd5Zq"
      }
    },
    {
      "cell_type": "code",
      "source": [
        "a[:,1] =[100,101]"
      ],
      "metadata": {
        "id": "iv9cSbaXds6t"
      },
      "execution_count": 42,
      "outputs": []
    },
    {
      "cell_type": "code",
      "source": [
        "a"
      ],
      "metadata": {
        "colab": {
          "base_uri": "https://localhost:8080/"
        },
        "id": "In64dbCLeQN8",
        "outputId": "d8599467-84a1-4068-cd89-17c4fd96ed12"
      },
      "execution_count": 43,
      "outputs": [
        {
          "output_type": "execute_result",
          "data": {
            "text/plain": [
              "array([[  1, 100,   6,   8,   7,   9],\n",
              "       [ 86, 101,  94,  35,  12,  41]])"
            ]
          },
          "metadata": {},
          "execution_count": 43
        }
      ]
    },
    {
      "cell_type": "code",
      "source": [
        "a[0,3]=111"
      ],
      "metadata": {
        "id": "LYYHJDB6eRHj"
      },
      "execution_count": 44,
      "outputs": []
    },
    {
      "cell_type": "code",
      "source": [
        "a"
      ],
      "metadata": {
        "colab": {
          "base_uri": "https://localhost:8080/"
        },
        "id": "A0d6J7fJewmq",
        "outputId": "92367f18-89ae-48ee-f720-56b445036fb2"
      },
      "execution_count": 45,
      "outputs": [
        {
          "output_type": "execute_result",
          "data": {
            "text/plain": [
              "array([[  1, 100,   6, 111,   7,   9],\n",
              "       [ 86, 101,  94,  35,  12,  41]])"
            ]
          },
          "metadata": {},
          "execution_count": 45
        }
      ]
    },
    {
      "cell_type": "code",
      "source": [
        "a[0,4:6] = 562"
      ],
      "metadata": {
        "id": "rriDJ7ZwexVq"
      },
      "execution_count": 46,
      "outputs": []
    },
    {
      "cell_type": "code",
      "source": [
        "a"
      ],
      "metadata": {
        "colab": {
          "base_uri": "https://localhost:8080/"
        },
        "id": "PYUiJW4PfirD",
        "outputId": "1e80a02d-099d-4a57-9bf5-54b754d150a8"
      },
      "execution_count": 47,
      "outputs": [
        {
          "output_type": "execute_result",
          "data": {
            "text/plain": [
              "array([[  1, 100,   6, 111, 562, 562],\n",
              "       [ 86, 101,  94,  35,  12,  41]])"
            ]
          },
          "metadata": {},
          "execution_count": 47
        }
      ]
    },
    {
      "cell_type": "code",
      "source": [
        "a[0:1,4:6]=300"
      ],
      "metadata": {
        "id": "CcSTGjDcfji_"
      },
      "execution_count": 48,
      "outputs": []
    },
    {
      "cell_type": "code",
      "source": [
        "a"
      ],
      "metadata": {
        "colab": {
          "base_uri": "https://localhost:8080/"
        },
        "id": "lVvh2hzUf1mp",
        "outputId": "520122d7-13d0-48b5-eeef-cb0fd9b50289"
      },
      "execution_count": 49,
      "outputs": [
        {
          "output_type": "execute_result",
          "data": {
            "text/plain": [
              "array([[  1, 100,   6, 111, 300, 300],\n",
              "       [ 86, 101,  94,  35,  12,  41]])"
            ]
          },
          "metadata": {},
          "execution_count": 49
        }
      ]
    },
    {
      "cell_type": "code",
      "source": [
        "a[0:2,4:6] = ([400,401],[250,251])"
      ],
      "metadata": {
        "id": "UCLmomhCf24A"
      },
      "execution_count": 51,
      "outputs": []
    },
    {
      "cell_type": "code",
      "source": [
        "a"
      ],
      "metadata": {
        "colab": {
          "base_uri": "https://localhost:8080/"
        },
        "id": "AF62POm1gmF1",
        "outputId": "bd14f082-2edf-4400-c051-47aa5a79578b"
      },
      "execution_count": 52,
      "outputs": [
        {
          "output_type": "execute_result",
          "data": {
            "text/plain": [
              "array([[  1, 100,   6, 111, 400, 401],\n",
              "       [ 86, 101,  94,  35, 250, 251]])"
            ]
          },
          "metadata": {},
          "execution_count": 52
        }
      ]
    },
    {
      "cell_type": "code",
      "source": [
        "a[0:,] = [500,501,502,503,504,505]"
      ],
      "metadata": {
        "id": "WNVhteITgrxc"
      },
      "execution_count": 53,
      "outputs": []
    },
    {
      "cell_type": "code",
      "source": [
        "a"
      ],
      "metadata": {
        "colab": {
          "base_uri": "https://localhost:8080/"
        },
        "id": "A-MW8c7bg1sc",
        "outputId": "6686a036-f49b-4654-b884-5f1807d7055e"
      },
      "execution_count": 54,
      "outputs": [
        {
          "output_type": "execute_result",
          "data": {
            "text/plain": [
              "array([[500, 501, 502, 503, 504, 505],\n",
              "       [500, 501, 502, 503, 504, 505]])"
            ]
          },
          "metadata": {},
          "execution_count": 54
        }
      ]
    },
    {
      "cell_type": "code",
      "source": [
        "a[0,:] = [600,601,602,603,604,605]"
      ],
      "metadata": {
        "id": "SfhHkGajg3Ty"
      },
      "execution_count": 55,
      "outputs": []
    },
    {
      "cell_type": "code",
      "source": [
        "a"
      ],
      "metadata": {
        "colab": {
          "base_uri": "https://localhost:8080/"
        },
        "id": "cQbwmgGUhKVc",
        "outputId": "b9cdccc8-58e1-4d16-b9d8-2557aedb9dc2"
      },
      "execution_count": 56,
      "outputs": [
        {
          "output_type": "execute_result",
          "data": {
            "text/plain": [
              "array([[600, 601, 602, 603, 604, 605],\n",
              "       [500, 501, 502, 503, 504, 505]])"
            ]
          },
          "metadata": {},
          "execution_count": 56
        }
      ]
    },
    {
      "cell_type": "markdown",
      "source": [
        "Example of a 3D array"
      ],
      "metadata": {
        "id": "WhJqi9lsirWL"
      }
    },
    {
      "cell_type": "code",
      "source": [
        "b1 = np.array([[[1,2],[3,4]],[[5,6],[7,8]]])"
      ],
      "metadata": {
        "id": "bGhyj_r5hK61"
      },
      "execution_count": 57,
      "outputs": []
    },
    {
      "cell_type": "code",
      "source": [
        "print(b1)"
      ],
      "metadata": {
        "colab": {
          "base_uri": "https://localhost:8080/"
        },
        "id": "b8MztO39jMDr",
        "outputId": "488c49d4-cba6-4b46-8515-d0feec8862a7"
      },
      "execution_count": 58,
      "outputs": [
        {
          "output_type": "stream",
          "name": "stdout",
          "text": [
            "[[[1 2]\n",
            "  [3 4]]\n",
            "\n",
            " [[5 6]\n",
            "  [7 8]]]\n"
          ]
        }
      ]
    },
    {
      "cell_type": "markdown",
      "source": [
        "Getting a specific value from a 3D Array (It is called work outside-in).\n"
      ],
      "metadata": {
        "id": "S92SspCYjkdO"
      }
    },
    {
      "cell_type": "code",
      "source": [
        "b1[0,1,1]"
      ],
      "metadata": {
        "colab": {
          "base_uri": "https://localhost:8080/"
        },
        "id": "pcwgQxa7jNtR",
        "outputId": "90cf2aec-a708-460f-f433-e4eb4a06b979"
      },
      "execution_count": 59,
      "outputs": [
        {
          "output_type": "execute_result",
          "data": {
            "text/plain": [
              "4"
            ]
          },
          "metadata": {},
          "execution_count": 59
        }
      ]
    },
    {
      "cell_type": "markdown",
      "source": [
        "Explanation for b1[0,1,1]\n",
        "\n",
        "* First we get the row which has index 0 i.e. [1,2],[3,4]\n",
        "* Next we get the list(set) which has index 1 i.e. [3,4]\n",
        "* Next we get the element in [3,4] which has index 1 i.e. 4"
      ],
      "metadata": {
        "id": "qd54ubZakruD"
      }
    },
    {
      "cell_type": "markdown",
      "source": [
        "Replacing a value in 3D array\n"
      ],
      "metadata": {
        "id": "9axEGlXPlLGA"
      }
    },
    {
      "cell_type": "code",
      "source": [
        "b1[:,1,:] =[[9,9],[11,13]]"
      ],
      "metadata": {
        "id": "ERkLYNZnjtyk"
      },
      "execution_count": 60,
      "outputs": []
    },
    {
      "cell_type": "code",
      "source": [
        "b1"
      ],
      "metadata": {
        "colab": {
          "base_uri": "https://localhost:8080/"
        },
        "id": "yMjGIpO5mKkH",
        "outputId": "a5422529-78e0-4281-e667-d4afb1e6e481"
      },
      "execution_count": 61,
      "outputs": [
        {
          "output_type": "execute_result",
          "data": {
            "text/plain": [
              "array([[[ 1,  2],\n",
              "        [ 9,  9]],\n",
              "\n",
              "       [[ 5,  6],\n",
              "        [11, 13]]])"
            ]
          },
          "metadata": {},
          "execution_count": 61
        }
      ]
    },
    {
      "cell_type": "code",
      "source": [],
      "metadata": {
        "id": "6K7n0GB9mLes"
      },
      "execution_count": null,
      "outputs": []
    }
  ]
}