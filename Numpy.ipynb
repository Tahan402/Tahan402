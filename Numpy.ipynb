{
  "nbformat": 4,
  "nbformat_minor": 0,
  "metadata": {
    "colab": {
      "provenance": [],
      "collapsed_sections": [],
      "authorship_tag": "ABX9TyNr1J0nW7uO+wQsKhSNKtoU",
      "include_colab_link": true
    },
    "kernelspec": {
      "name": "python3",
      "display_name": "Python 3"
    },
    "language_info": {
      "name": "python"
    }
  },
  "cells": [
    {
      "cell_type": "markdown",
      "metadata": {
        "id": "view-in-github",
        "colab_type": "text"
      },
      "source": [
        "<a href=\"https://colab.research.google.com/github/Tahan402/Tahan402/blob/Capstone/Numpy.ipynb\" target=\"_parent\"><img src=\"https://colab.research.google.com/assets/colab-badge.svg\" alt=\"Open In Colab\"/></a>"
      ]
    },
    {
      "cell_type": "markdown",
      "source": [
        "#Numpy\n"
      ],
      "metadata": {
        "id": "qTrq5iN9QXel"
      }
    },
    {
      "cell_type": "markdown",
      "source": [
        "NumPy is a Linear Algebra Library for Python. \n",
        "\n",
        "All libraries use numpy as a base for building other libraries.\n",
        " \n",
        "Numpy is also very fast\n"
      ],
      "metadata": {
        "id": "IqTUlKGCQeVD"
      }
    },
    {
      "cell_type": "markdown",
      "source": [
        "Import numpy as a library. np is a general convention\n"
      ],
      "metadata": {
        "id": "TZybPP_4QmBq"
      }
    },
    {
      "cell_type": "code",
      "execution_count": 1,
      "metadata": {
        "id": "v3ZxzOxyNR_d"
      },
      "outputs": [],
      "source": [
        "import numpy as np\n",
        "import pandas as pd"
      ]
    },
    {
      "cell_type": "markdown",
      "source": [
        "#Numpy usage\n"
      ],
      "metadata": {
        "id": "N8JSS2M2Qx1R"
      }
    },
    {
      "cell_type": "markdown",
      "source": [
        "* Using Numpy we can create vectors, arrays, matrices and generate random numbers.\n",
        "\n",
        "* NumPy arrays essentially come in two types: vectors and matrices.\n",
        "\n",
        "* Vectors are strictly 1-D arrays and matrices are 2-D arrays. They are a list or a list of lists"
      ],
      "metadata": {
        "id": "GYw0crh6Q5EM"
      }
    },
    {
      "cell_type": "code",
      "source": [
        "list1 = [25,20,58]\n",
        "list1"
      ],
      "metadata": {
        "colab": {
          "base_uri": "https://localhost:8080/"
        },
        "id": "6MJxGBNlQUe5",
        "outputId": "a53d2a09-428e-4522-deb4-c3d5695cb6d0"
      },
      "execution_count": 2,
      "outputs": [
        {
          "output_type": "execute_result",
          "data": {
            "text/plain": [
              "[25, 20, 58]"
            ]
          },
          "metadata": {},
          "execution_count": 2
        }
      ]
    },
    {
      "cell_type": "code",
      "source": [
        "np.array(list1)"
      ],
      "metadata": {
        "colab": {
          "base_uri": "https://localhost:8080/"
        },
        "id": "dfpTH13nRiRA",
        "outputId": "b24d757b-af5a-428c-e352-027f571e3b50"
      },
      "execution_count": 3,
      "outputs": [
        {
          "output_type": "execute_result",
          "data": {
            "text/plain": [
              "array([25, 20, 58])"
            ]
          },
          "metadata": {},
          "execution_count": 3
        }
      ]
    },
    {
      "cell_type": "code",
      "source": [
        "a =np.array([[12.0,5.0,8.0],[25.0,15.0,62.0]])\n",
        "print(a)"
      ],
      "metadata": {
        "colab": {
          "base_uri": "https://localhost:8080/"
        },
        "id": "F-4iKKRORwRj",
        "outputId": "2376b98b-ac83-46dd-c785-6b1804aad685"
      },
      "execution_count": 4,
      "outputs": [
        {
          "output_type": "stream",
          "name": "stdout",
          "text": [
            "[[12.  5.  8.]\n",
            " [25. 15. 62.]]\n"
          ]
        }
      ]
    },
    {
      "cell_type": "markdown",
      "source": [
        "Get the dimension of 'a'"
      ],
      "metadata": {
        "id": "FiLDgBrISz4j"
      }
    },
    {
      "cell_type": "code",
      "source": [
        "a.ndim # row is one dimension and column is another dimension"
      ],
      "metadata": {
        "colab": {
          "base_uri": "https://localhost:8080/"
        },
        "id": "CUXHX2MASiCP",
        "outputId": "4659ae13-b29a-4f01-ed49-040eb217fa9d"
      },
      "execution_count": 6,
      "outputs": [
        {
          "output_type": "execute_result",
          "data": {
            "text/plain": [
              "2"
            ]
          },
          "metadata": {},
          "execution_count": 6
        }
      ]
    },
    {
      "cell_type": "code",
      "source": [
        "a.shape"
      ],
      "metadata": {
        "colab": {
          "base_uri": "https://localhost:8080/"
        },
        "id": "iL4AZClcTATF",
        "outputId": "de0032e9-e4d5-4e39-bcf7-1d0b3deebf31"
      },
      "execution_count": 7,
      "outputs": [
        {
          "output_type": "execute_result",
          "data": {
            "text/plain": [
              "(2, 3)"
            ]
          },
          "metadata": {},
          "execution_count": 7
        }
      ]
    },
    {
      "cell_type": "code",
      "source": [
        "b = np.array(list1)"
      ],
      "metadata": {
        "id": "ZN8ErRqATULP"
      },
      "execution_count": 8,
      "outputs": []
    },
    {
      "cell_type": "code",
      "source": [
        "print(b)"
      ],
      "metadata": {
        "colab": {
          "base_uri": "https://localhost:8080/"
        },
        "id": "jZWFtiX1TkNE",
        "outputId": "6a0c3328-bf4b-4d83-ea5d-d9bd73add759"
      },
      "execution_count": 10,
      "outputs": [
        {
          "output_type": "stream",
          "name": "stdout",
          "text": [
            "[25 20 58]\n"
          ]
        }
      ]
    },
    {
      "cell_type": "code",
      "source": [
        "b.ndim"
      ],
      "metadata": {
        "colab": {
          "base_uri": "https://localhost:8080/"
        },
        "id": "4XknzlWJTky9",
        "outputId": "0078e6fa-3498-404d-f4dd-6de4c47f7902"
      },
      "execution_count": 11,
      "outputs": [
        {
          "output_type": "execute_result",
          "data": {
            "text/plain": [
              "1"
            ]
          },
          "metadata": {},
          "execution_count": 11
        }
      ]
    },
    {
      "cell_type": "code",
      "source": [
        "b.shape"
      ],
      "metadata": {
        "colab": {
          "base_uri": "https://localhost:8080/"
        },
        "id": "Vk1_Oia9Tqu_",
        "outputId": "9fb66489-dded-4bf2-dd74-717723c91caa"
      },
      "execution_count": 12,
      "outputs": [
        {
          "output_type": "execute_result",
          "data": {
            "text/plain": [
              "(3,)"
            ]
          },
          "metadata": {},
          "execution_count": 12
        }
      ]
    },
    {
      "cell_type": "code",
      "source": [
        "c =np.array([[12.0,25.0,36.0],[52.0,65.0,24.0],[85.0,87.0,95.0],[78.0,56.0,23.0]])"
      ],
      "metadata": {
        "id": "whLJsB-zTsrS"
      },
      "execution_count": 13,
      "outputs": []
    },
    {
      "cell_type": "code",
      "source": [
        "print(c)"
      ],
      "metadata": {
        "colab": {
          "base_uri": "https://localhost:8080/"
        },
        "id": "tcczKo_QURNF",
        "outputId": "875ac3a6-64c5-4cf5-9dcb-b78d8da57288"
      },
      "execution_count": 14,
      "outputs": [
        {
          "output_type": "stream",
          "name": "stdout",
          "text": [
            "[[12. 25. 36.]\n",
            " [52. 65. 24.]\n",
            " [85. 87. 95.]\n",
            " [78. 56. 23.]]\n"
          ]
        }
      ]
    },
    {
      "cell_type": "code",
      "source": [
        "c.ndim"
      ],
      "metadata": {
        "colab": {
          "base_uri": "https://localhost:8080/"
        },
        "id": "jjtImTXqUTfM",
        "outputId": "275a97d2-5839-4f57-c7fa-1c3e55ac13fb"
      },
      "execution_count": 15,
      "outputs": [
        {
          "output_type": "execute_result",
          "data": {
            "text/plain": [
              "2"
            ]
          },
          "metadata": {},
          "execution_count": 15
        }
      ]
    },
    {
      "cell_type": "code",
      "source": [
        "c.shape"
      ],
      "metadata": {
        "colab": {
          "base_uri": "https://localhost:8080/"
        },
        "id": "A9tU9wJsUlDN",
        "outputId": "a99afc68-fcfb-4a98-ea0f-aa85dc24b847"
      },
      "execution_count": 16,
      "outputs": [
        {
          "output_type": "execute_result",
          "data": {
            "text/plain": [
              "(4, 3)"
            ]
          },
          "metadata": {},
          "execution_count": 16
        }
      ]
    },
    {
      "cell_type": "code",
      "source": [
        "d = np.array([[[100,25],[36,42]],[[56,85],[96,23]],[[56,96],[38,75]]])"
      ],
      "metadata": {
        "id": "Z0P5dvSOUndB"
      },
      "execution_count": 17,
      "outputs": []
    },
    {
      "cell_type": "code",
      "source": [
        "print(d)"
      ],
      "metadata": {
        "colab": {
          "base_uri": "https://localhost:8080/"
        },
        "id": "lvbOYtkrWkez",
        "outputId": "6d241818-7c31-4a39-b8ab-2cc49cc7fb8b"
      },
      "execution_count": 18,
      "outputs": [
        {
          "output_type": "stream",
          "name": "stdout",
          "text": [
            "[[[100  25]\n",
            "  [ 36  42]]\n",
            "\n",
            " [[ 56  85]\n",
            "  [ 96  23]]\n",
            "\n",
            " [[ 56  96]\n",
            "  [ 38  75]]]\n"
          ]
        }
      ]
    },
    {
      "cell_type": "code",
      "source": [
        "d.ndim"
      ],
      "metadata": {
        "colab": {
          "base_uri": "https://localhost:8080/"
        },
        "id": "i2ehDVoUWmho",
        "outputId": "73a43e0b-862a-4aff-9f27-78914f829b5c"
      },
      "execution_count": 19,
      "outputs": [
        {
          "output_type": "execute_result",
          "data": {
            "text/plain": [
              "3"
            ]
          },
          "metadata": {},
          "execution_count": 19
        }
      ]
    },
    {
      "cell_type": "code",
      "source": [
        "d.shape"
      ],
      "metadata": {
        "colab": {
          "base_uri": "https://localhost:8080/"
        },
        "id": "VBDKWThBXOZm",
        "outputId": "917f3b70-98ec-4bce-da4f-43b97e9719c7"
      },
      "execution_count": 20,
      "outputs": [
        {
          "output_type": "execute_result",
          "data": {
            "text/plain": [
              "(3, 2, 2)"
            ]
          },
          "metadata": {},
          "execution_count": 20
        }
      ]
    },
    {
      "cell_type": "markdown",
      "source": [
        "Finding the Datatype"
      ],
      "metadata": {
        "id": "tWoh4pIqY9zP"
      }
    },
    {
      "cell_type": "code",
      "source": [
        "b.dtype"
      ],
      "metadata": {
        "colab": {
          "base_uri": "https://localhost:8080/"
        },
        "id": "5huRCckHX-DH",
        "outputId": "cf5d1e39-c821-422a-fd45-4299cdcaffef"
      },
      "execution_count": 21,
      "outputs": [
        {
          "output_type": "execute_result",
          "data": {
            "text/plain": [
              "dtype('int64')"
            ]
          },
          "metadata": {},
          "execution_count": 21
        }
      ]
    },
    {
      "cell_type": "markdown",
      "source": [
        "Finding the size of an Array"
      ],
      "metadata": {
        "id": "9w54Dn6nZQqP"
      }
    },
    {
      "cell_type": "code",
      "source": [
        "a.itemsize #item size will be 8 because this array consists of integers and size of integers( in bytes) in 8 bytes"
      ],
      "metadata": {
        "colab": {
          "base_uri": "https://localhost:8080/"
        },
        "id": "5_g6ME9GZJTV",
        "outputId": "fad287a1-bbe0-4eb0-948a-07370b148560"
      },
      "execution_count": 23,
      "outputs": [
        {
          "output_type": "execute_result",
          "data": {
            "text/plain": [
              "8"
            ]
          },
          "metadata": {},
          "execution_count": 23
        }
      ]
    },
    {
      "cell_type": "code",
      "source": [
        "a.size #this is for getting number of items in an array "
      ],
      "metadata": {
        "colab": {
          "base_uri": "https://localhost:8080/"
        },
        "id": "0SMs8P1MZdSy",
        "outputId": "1ba3205b-de4a-446d-e974-49dd2c814202"
      },
      "execution_count": 24,
      "outputs": [
        {
          "output_type": "execute_result",
          "data": {
            "text/plain": [
              "6"
            ]
          },
          "metadata": {},
          "execution_count": 24
        }
      ]
    },
    {
      "cell_type": "code",
      "source": [
        "b.size"
      ],
      "metadata": {
        "colab": {
          "base_uri": "https://localhost:8080/"
        },
        "id": "6y3xMIJ3bN5L",
        "outputId": "e0124d07-d917-44d6-9919-734a335d29e6"
      },
      "execution_count": 25,
      "outputs": [
        {
          "output_type": "execute_result",
          "data": {
            "text/plain": [
              "3"
            ]
          },
          "metadata": {},
          "execution_count": 25
        }
      ]
    },
    {
      "cell_type": "code",
      "source": [
        "a.nbytes # 6 items * 8 bytes each"
      ],
      "metadata": {
        "colab": {
          "base_uri": "https://localhost:8080/"
        },
        "id": "Gj074ztWbWJE",
        "outputId": "3f91a0ae-0030-4975-cbe2-0e376c92ede7"
      },
      "execution_count": 27,
      "outputs": [
        {
          "output_type": "execute_result",
          "data": {
            "text/plain": [
              "48"
            ]
          },
          "metadata": {},
          "execution_count": 27
        }
      ]
    },
    {
      "cell_type": "code",
      "source": [
        "b.nbytes"
      ],
      "metadata": {
        "colab": {
          "base_uri": "https://localhost:8080/"
        },
        "id": "ZH1TAdribfDo",
        "outputId": "5943dd0f-acee-4f73-d7e5-002febffc245"
      },
      "execution_count": 28,
      "outputs": [
        {
          "output_type": "execute_result",
          "data": {
            "text/plain": [
              "24"
            ]
          },
          "metadata": {},
          "execution_count": 28
        }
      ]
    },
    {
      "cell_type": "code",
      "source": [],
      "metadata": {
        "id": "yJy_olZfbzBp"
      },
      "execution_count": null,
      "outputs": []
    }
  ]
}